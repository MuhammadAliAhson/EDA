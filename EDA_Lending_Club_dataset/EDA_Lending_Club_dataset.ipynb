{
 "cells": [
  {
   "cell_type": "markdown",
   "id": "104b33d2",
   "metadata": {
    "papermill": {
     "duration": 0.026599,
     "end_time": "2024-04-29T12:05:20.334552",
     "exception": false,
     "start_time": "2024-04-29T12:05:20.307953",
     "status": "completed"
    },
    "tags": []
   },
   "source": [
    "# Appendices"
   ]
  },
  {
   "cell_type": "code",
   "execution_count": 1,
   "id": "9d14c214",
   "metadata": {
    "execution": {
     "iopub.execute_input": "2024-04-29T12:05:20.390645Z",
     "iopub.status.busy": "2024-04-29T12:05:20.389702Z",
     "iopub.status.idle": "2024-04-29T12:05:37.930659Z",
     "shell.execute_reply": "2024-04-29T12:05:37.929355Z"
    },
    "papermill": {
     "duration": 17.571768,
     "end_time": "2024-04-29T12:05:37.932984",
     "exception": false,
     "start_time": "2024-04-29T12:05:20.361216",
     "status": "completed"
    },
    "tags": []
   },
   "outputs": [
    {
     "name": "stdout",
     "output_type": "stream",
     "text": [
      "Collecting scikeras\r\n",
      "  Downloading scikeras-0.13.0-py3-none-any.whl.metadata (3.1 kB)\r\n",
      "Requirement already satisfied: keras>=3.2.0 in /opt/conda/lib/python3.10/site-packages (from scikeras) (3.2.1)\r\n",
      "Collecting scikit-learn>=1.4.2 (from scikeras)\r\n",
      "  Downloading scikit_learn-1.4.2-cp310-cp310-manylinux_2_17_x86_64.manylinux2014_x86_64.whl.metadata (11 kB)\r\n",
      "Requirement already satisfied: absl-py in /opt/conda/lib/python3.10/site-packages (from keras>=3.2.0->scikeras) (1.4.0)\r\n",
      "Requirement already satisfied: numpy in /opt/conda/lib/python3.10/site-packages (from keras>=3.2.0->scikeras) (1.26.4)\r\n",
      "Requirement already satisfied: rich in /opt/conda/lib/python3.10/site-packages (from keras>=3.2.0->scikeras) (13.7.0)\r\n",
      "Requirement already satisfied: namex in /opt/conda/lib/python3.10/site-packages (from keras>=3.2.0->scikeras) (0.0.8)\r\n",
      "Requirement already satisfied: h5py in /opt/conda/lib/python3.10/site-packages (from keras>=3.2.0->scikeras) (3.10.0)\r\n",
      "Requirement already satisfied: optree in /opt/conda/lib/python3.10/site-packages (from keras>=3.2.0->scikeras) (0.11.0)\r\n",
      "Requirement already satisfied: ml-dtypes in /opt/conda/lib/python3.10/site-packages (from keras>=3.2.0->scikeras) (0.2.0)\r\n",
      "Requirement already satisfied: scipy>=1.6.0 in /opt/conda/lib/python3.10/site-packages (from scikit-learn>=1.4.2->scikeras) (1.11.4)\r\n",
      "Requirement already satisfied: joblib>=1.2.0 in /opt/conda/lib/python3.10/site-packages (from scikit-learn>=1.4.2->scikeras) (1.4.0)\r\n",
      "Requirement already satisfied: threadpoolctl>=2.0.0 in /opt/conda/lib/python3.10/site-packages (from scikit-learn>=1.4.2->scikeras) (3.2.0)\r\n",
      "Requirement already satisfied: typing-extensions>=4.0.0 in /opt/conda/lib/python3.10/site-packages (from optree->keras>=3.2.0->scikeras) (4.9.0)\r\n",
      "Requirement already satisfied: markdown-it-py>=2.2.0 in /opt/conda/lib/python3.10/site-packages (from rich->keras>=3.2.0->scikeras) (3.0.0)\r\n",
      "Requirement already satisfied: pygments<3.0.0,>=2.13.0 in /opt/conda/lib/python3.10/site-packages (from rich->keras>=3.2.0->scikeras) (2.17.2)\r\n",
      "Requirement already satisfied: mdurl~=0.1 in /opt/conda/lib/python3.10/site-packages (from markdown-it-py>=2.2.0->rich->keras>=3.2.0->scikeras) (0.1.2)\r\n",
      "Downloading scikeras-0.13.0-py3-none-any.whl (26 kB)\r\n",
      "Downloading scikit_learn-1.4.2-cp310-cp310-manylinux_2_17_x86_64.manylinux2014_x86_64.whl (12.1 MB)\r\n",
      "\u001b[2K   \u001b[90m━━━━━━━━━━━━━━━━━━━━━━━━━━━━━━━━━━━━━━━━\u001b[0m \u001b[32m12.1/12.1 MB\u001b[0m \u001b[31m77.0 MB/s\u001b[0m eta \u001b[36m0:00:00\u001b[0m\r\n",
      "\u001b[?25hInstalling collected packages: scikit-learn, scikeras\r\n",
      "  Attempting uninstall: scikit-learn\r\n",
      "    Found existing installation: scikit-learn 1.2.2\r\n",
      "    Uninstalling scikit-learn-1.2.2:\r\n",
      "      Successfully uninstalled scikit-learn-1.2.2\r\n",
      "\u001b[31mERROR: pip's dependency resolver does not currently take into account all the packages that are installed. This behaviour is the source of the following dependency conflicts.\r\n",
      "spopt 0.6.0 requires shapely>=2.0.1, but you have shapely 1.8.5.post1 which is incompatible.\u001b[0m\u001b[31m\r\n",
      "\u001b[0mSuccessfully installed scikeras-0.13.0 scikit-learn-1.4.2\r\n"
     ]
    }
   ],
   "source": [
    "!pip install scikeras"
   ]
  },
  {
   "cell_type": "code",
   "execution_count": 2,
   "id": "2063170a",
   "metadata": {
    "execution": {
     "iopub.execute_input": "2024-04-29T12:05:37.993348Z",
     "iopub.status.busy": "2024-04-29T12:05:37.992990Z",
     "iopub.status.idle": "2024-04-29T12:05:51.712130Z",
     "shell.execute_reply": "2024-04-29T12:05:51.711298Z"
    },
    "papermill": {
     "duration": 13.75132,
     "end_time": "2024-04-29T12:05:51.714383",
     "exception": false,
     "start_time": "2024-04-29T12:05:37.963063",
     "status": "completed"
    },
    "tags": []
   },
   "outputs": [
    {
     "name": "stderr",
     "output_type": "stream",
     "text": [
      "2024-04-29 12:05:41.576557: E external/local_xla/xla/stream_executor/cuda/cuda_dnn.cc:9261] Unable to register cuDNN factory: Attempting to register factory for plugin cuDNN when one has already been registered\n",
      "2024-04-29 12:05:41.576658: E external/local_xla/xla/stream_executor/cuda/cuda_fft.cc:607] Unable to register cuFFT factory: Attempting to register factory for plugin cuFFT when one has already been registered\n",
      "2024-04-29 12:05:41.711598: E external/local_xla/xla/stream_executor/cuda/cuda_blas.cc:1515] Unable to register cuBLAS factory: Attempting to register factory for plugin cuBLAS when one has already been registered\n"
     ]
    }
   ],
   "source": [
    "import pandas as pd\n",
    "import numpy as np\n",
    "import matplotlib.pyplot as plt\n",
    "%matplotlib inline\n",
    "import seaborn as sns\n",
    "import pickle\n",
    "# For warnings\n",
    "import warnings\n",
    "warnings.filterwarnings(action='ignore')\n",
    "from scikeras.wrappers import KerasClassifier\n",
    "# Importing necessary packages for building and tuning our model\n",
    "from sklearn.preprocessing import MinMaxScaler\n",
    "from sklearn.ensemble import RandomForestClassifier\n",
    "from collections import Counter\n",
    "from imblearn.under_sampling import NearMiss               # For Undersampling\n",
    "from imblearn.over_sampling import RandomOverSampler       # For Oversampling\n",
    "from imblearn.combine import SMOTETomek                    # For Both Undersampling & Oversampling\n",
    "from sklearn.model_selection import train_test_split\n",
    "from tensorflow import keras\n",
    "from tensorflow.keras import layers\n",
    "#from tensorflow.keras.wrappers.scikit_learn import KerasClassifier\n",
    "from keras_tuner.tuners import RandomSearch\n",
    "\n",
    "# For checking acuracy\n",
    "from sklearn.metrics import confusion_matrix, accuracy_score, classification_report"
   ]
  },
  {
   "cell_type": "code",
   "execution_count": 3,
   "id": "aee05d18",
   "metadata": {
    "execution": {
     "iopub.execute_input": "2024-04-29T12:05:51.775960Z",
     "iopub.status.busy": "2024-04-29T12:05:51.775350Z",
     "iopub.status.idle": "2024-04-29T12:06:23.586796Z",
     "shell.execute_reply": "2024-04-29T12:06:23.585962Z"
    },
    "papermill": {
     "duration": 31.843899,
     "end_time": "2024-04-29T12:06:23.589156",
     "exception": false,
     "start_time": "2024-04-29T12:05:51.745257",
     "status": "completed"
    },
    "tags": []
   },
   "outputs": [],
   "source": [
    "data = pd.read_pickle(\"/kaggle/input/pickle121/lending_club_dataset.pickle\")"
   ]
  },
  {
   "cell_type": "code",
   "execution_count": 4,
   "id": "5d55414c",
   "metadata": {
    "execution": {
     "iopub.execute_input": "2024-04-29T12:06:23.649715Z",
     "iopub.status.busy": "2024-04-29T12:06:23.649363Z",
     "iopub.status.idle": "2024-04-29T12:06:23.653675Z",
     "shell.execute_reply": "2024-04-29T12:06:23.652765Z"
    },
    "papermill": {
     "duration": 0.036406,
     "end_time": "2024-04-29T12:06:23.655625",
     "exception": false,
     "start_time": "2024-04-29T12:06:23.619219",
     "status": "completed"
    },
    "tags": []
   },
   "outputs": [],
   "source": [
    "dat = data[0]"
   ]
  },
  {
   "cell_type": "code",
   "execution_count": 5,
   "id": "acac8643",
   "metadata": {
    "execution": {
     "iopub.execute_input": "2024-04-29T12:06:23.716136Z",
     "iopub.status.busy": "2024-04-29T12:06:23.715371Z",
     "iopub.status.idle": "2024-04-29T12:06:23.722143Z",
     "shell.execute_reply": "2024-04-29T12:06:23.721252Z"
    },
    "papermill": {
     "duration": 0.039175,
     "end_time": "2024-04-29T12:06:23.724123",
     "exception": false,
     "start_time": "2024-04-29T12:06:23.684948",
     "status": "completed"
    },
    "tags": []
   },
   "outputs": [
    {
     "data": {
      "text/plain": [
       "(605374, 33)"
      ]
     },
     "execution_count": 5,
     "metadata": {},
     "output_type": "execute_result"
    }
   ],
   "source": [
    "dat.shape"
   ]
  },
  {
   "cell_type": "markdown",
   "id": "56989916",
   "metadata": {
    "papermill": {
     "duration": 0.02927,
     "end_time": "2024-04-29T12:06:23.782990",
     "exception": false,
     "start_time": "2024-04-29T12:06:23.753720",
     "status": "completed"
    },
    "tags": []
   },
   "source": [
    "#  Data Exploration"
   ]
  },
  {
   "cell_type": "code",
   "execution_count": 6,
   "id": "65c9d725",
   "metadata": {
    "execution": {
     "iopub.execute_input": "2024-04-29T12:06:23.845068Z",
     "iopub.status.busy": "2024-04-29T12:06:23.844299Z",
     "iopub.status.idle": "2024-04-29T12:06:24.595188Z",
     "shell.execute_reply": "2024-04-29T12:06:24.594246Z"
    },
    "papermill": {
     "duration": 0.784358,
     "end_time": "2024-04-29T12:06:24.597217",
     "exception": false,
     "start_time": "2024-04-29T12:06:23.812859",
     "status": "completed"
    },
    "tags": []
   },
   "outputs": [
    {
     "data": {
      "text/plain": [
       "id                         0\n",
       "loan_amnt                  0\n",
       "funded_amnt                0\n",
       "term                       0\n",
       "int_rate                   0\n",
       "installment                0\n",
       "grade                      0\n",
       "emp_length             37891\n",
       "home_ownership             0\n",
       "annual_inc                 0\n",
       "verification_status        0\n",
       "issue_d                    0\n",
       "loan_status                0\n",
       "purpose                    0\n",
       "dti                        0\n",
       "delinq_2yrs                0\n",
       "earliest_cr_line           0\n",
       "open_acc                   0\n",
       "pub_rec                    0\n",
       "fico_range_high            0\n",
       "fico_range_low             0\n",
       "revol_bal                  0\n",
       "revol_util                 0\n",
       "total_pymnt                0\n",
       "last_pymnt_d               0\n",
       "recoveries                 0\n",
       "loan_length                0\n",
       "term_num                   0\n",
       "dtype: int64"
      ]
     },
     "execution_count": 6,
     "metadata": {},
     "output_type": "execute_result"
    }
   ],
   "source": [
    "df = dat.drop(columns=['ret_PESS', 'ret_OPT', 'ret_INTa', 'ret_INTb', 'ret_INTc'])\n",
    "df.isnull().sum()"
   ]
  },
  {
   "cell_type": "code",
   "execution_count": 7,
   "id": "ff0c6afc",
   "metadata": {
    "execution": {
     "iopub.execute_input": "2024-04-29T12:06:24.659006Z",
     "iopub.status.busy": "2024-04-29T12:06:24.658228Z",
     "iopub.status.idle": "2024-04-29T12:06:24.685198Z",
     "shell.execute_reply": "2024-04-29T12:06:24.684299Z"
    },
    "papermill": {
     "duration": 0.059451,
     "end_time": "2024-04-29T12:06:24.687112",
     "exception": false,
     "start_time": "2024-04-29T12:06:24.627661",
     "status": "completed"
    },
    "tags": []
   },
   "outputs": [
    {
     "data": {
      "text/html": [
       "<div>\n",
       "<style scoped>\n",
       "    .dataframe tbody tr th:only-of-type {\n",
       "        vertical-align: middle;\n",
       "    }\n",
       "\n",
       "    .dataframe tbody tr th {\n",
       "        vertical-align: top;\n",
       "    }\n",
       "\n",
       "    .dataframe thead th {\n",
       "        text-align: right;\n",
       "    }\n",
       "</style>\n",
       "<table border=\"1\" class=\"dataframe\">\n",
       "  <thead>\n",
       "    <tr style=\"text-align: right;\">\n",
       "      <th></th>\n",
       "      <th>ret_PESS</th>\n",
       "      <th>ret_OPT</th>\n",
       "      <th>ret_INTa</th>\n",
       "      <th>ret_INTb</th>\n",
       "      <th>ret_INTc</th>\n",
       "    </tr>\n",
       "  </thead>\n",
       "  <tbody>\n",
       "    <tr>\n",
       "      <th>0</th>\n",
       "      <td>0.031676</td>\n",
       "      <td>0.103917</td>\n",
       "      <td>0.031155</td>\n",
       "      <td>0.050634</td>\n",
       "      <td>0.086751</td>\n",
       "    </tr>\n",
       "    <tr>\n",
       "      <th>2</th>\n",
       "      <td>0.067688</td>\n",
       "      <td>0.064215</td>\n",
       "      <td>0.050574</td>\n",
       "      <td>0.066334</td>\n",
       "      <td>0.094950</td>\n",
       "    </tr>\n",
       "    <tr>\n",
       "      <th>3</th>\n",
       "      <td>0.029354</td>\n",
       "      <td>0.105803</td>\n",
       "      <td>0.029798</td>\n",
       "      <td>0.049345</td>\n",
       "      <td>0.085622</td>\n",
       "    </tr>\n",
       "    <tr>\n",
       "      <th>4</th>\n",
       "      <td>0.061736</td>\n",
       "      <td>0.061721</td>\n",
       "      <td>0.047093</td>\n",
       "      <td>0.063007</td>\n",
       "      <td>0.091937</td>\n",
       "    </tr>\n",
       "    <tr>\n",
       "      <th>5</th>\n",
       "      <td>0.102442</td>\n",
       "      <td>0.136655</td>\n",
       "      <td>0.113866</td>\n",
       "      <td>0.131897</td>\n",
       "      <td>0.164518</td>\n",
       "    </tr>\n",
       "    <tr>\n",
       "      <th>...</th>\n",
       "      <td>...</td>\n",
       "      <td>...</td>\n",
       "      <td>...</td>\n",
       "      <td>...</td>\n",
       "      <td>...</td>\n",
       "    </tr>\n",
       "    <tr>\n",
       "      <th>1048430</th>\n",
       "      <td>0.030100</td>\n",
       "      <td>0.182219</td>\n",
       "      <td>0.030735</td>\n",
       "      <td>0.051117</td>\n",
       "      <td>0.089089</td>\n",
       "    </tr>\n",
       "    <tr>\n",
       "      <th>1048442</th>\n",
       "      <td>0.011731</td>\n",
       "      <td>0.140018</td>\n",
       "      <td>0.024141</td>\n",
       "      <td>0.044108</td>\n",
       "      <td>0.081340</td>\n",
       "    </tr>\n",
       "    <tr>\n",
       "      <th>1048471</th>\n",
       "      <td>0.028473</td>\n",
       "      <td>0.203910</td>\n",
       "      <td>0.029807</td>\n",
       "      <td>0.050279</td>\n",
       "      <td>0.088453</td>\n",
       "    </tr>\n",
       "    <tr>\n",
       "      <th>1048488</th>\n",
       "      <td>0.006092</td>\n",
       "      <td>0.222524</td>\n",
       "      <td>0.016028</td>\n",
       "      <td>0.035984</td>\n",
       "      <td>0.073344</td>\n",
       "    </tr>\n",
       "    <tr>\n",
       "      <th>1048541</th>\n",
       "      <td>0.016484</td>\n",
       "      <td>0.148050</td>\n",
       "      <td>0.022306</td>\n",
       "      <td>0.042294</td>\n",
       "      <td>0.079601</td>\n",
       "    </tr>\n",
       "  </tbody>\n",
       "</table>\n",
       "<p>605374 rows × 5 columns</p>\n",
       "</div>"
      ],
      "text/plain": [
       "         ret_PESS   ret_OPT  ret_INTa  ret_INTb  ret_INTc\n",
       "0        0.031676  0.103917  0.031155  0.050634  0.086751\n",
       "2        0.067688  0.064215  0.050574  0.066334  0.094950\n",
       "3        0.029354  0.105803  0.029798  0.049345  0.085622\n",
       "4        0.061736  0.061721  0.047093  0.063007  0.091937\n",
       "5        0.102442  0.136655  0.113866  0.131897  0.164518\n",
       "...           ...       ...       ...       ...       ...\n",
       "1048430  0.030100  0.182219  0.030735  0.051117  0.089089\n",
       "1048442  0.011731  0.140018  0.024141  0.044108  0.081340\n",
       "1048471  0.028473  0.203910  0.029807  0.050279  0.088453\n",
       "1048488  0.006092  0.222524  0.016028  0.035984  0.073344\n",
       "1048541  0.016484  0.148050  0.022306  0.042294  0.079601\n",
       "\n",
       "[605374 rows x 5 columns]"
      ]
     },
     "execution_count": 7,
     "metadata": {},
     "output_type": "execute_result"
    }
   ],
   "source": [
    "selected_columns = ['ret_PESS', 'ret_OPT', 'ret_INTa', 'ret_INTb', 'ret_INTc']\n",
    "dat[selected_columns]"
   ]
  },
  {
   "cell_type": "code",
   "execution_count": 8,
   "id": "baf031fc",
   "metadata": {
    "execution": {
     "iopub.execute_input": "2024-04-29T12:06:24.748214Z",
     "iopub.status.busy": "2024-04-29T12:06:24.747928Z",
     "iopub.status.idle": "2024-04-29T12:06:24.908616Z",
     "shell.execute_reply": "2024-04-29T12:06:24.907795Z"
    },
    "papermill": {
     "duration": 0.193401,
     "end_time": "2024-04-29T12:06:24.910947",
     "exception": false,
     "start_time": "2024-04-29T12:06:24.717546",
     "status": "completed"
    },
    "tags": []
   },
   "outputs": [],
   "source": [
    "# List of columns to sum\n",
    "columns_to_sum = ['ret_OPT', 'ret_INTa', 'ret_INTb', 'ret_INTc']\n",
    "\n",
    "\n",
    "# Calculate the sum across columns\n",
    "return_max_sum = dat[columns_to_sum].sum(axis=1)\n",
    "\n",
    "# Binarize the sum values into two classes\n",
    "y_binary = np.where(return_max_sum > return_max_sum.median(), 1, 0)\n",
    "\n",
    "\n",
    "y1 = y_binary\n",
    "# Print the first few values of y_binary\n"
   ]
  },
  {
   "cell_type": "code",
   "execution_count": 9,
   "id": "13a8ad53",
   "metadata": {
    "execution": {
     "iopub.execute_input": "2024-04-29T12:06:24.972373Z",
     "iopub.status.busy": "2024-04-29T12:06:24.972054Z",
     "iopub.status.idle": "2024-04-29T12:06:25.613757Z",
     "shell.execute_reply": "2024-04-29T12:06:25.612855Z"
    },
    "papermill": {
     "duration": 0.674518,
     "end_time": "2024-04-29T12:06:25.615819",
     "exception": false,
     "start_time": "2024-04-29T12:06:24.941301",
     "status": "completed"
    },
    "tags": []
   },
   "outputs": [
    {
     "data": {
      "text/html": [
       "<div>\n",
       "<style scoped>\n",
       "    .dataframe tbody tr th:only-of-type {\n",
       "        vertical-align: middle;\n",
       "    }\n",
       "\n",
       "    .dataframe tbody tr th {\n",
       "        vertical-align: top;\n",
       "    }\n",
       "\n",
       "    .dataframe thead th {\n",
       "        text-align: right;\n",
       "    }\n",
       "</style>\n",
       "<table border=\"1\" class=\"dataframe\">\n",
       "  <thead>\n",
       "    <tr style=\"text-align: right;\">\n",
       "      <th></th>\n",
       "      <th>id</th>\n",
       "      <th>loan_amnt</th>\n",
       "      <th>funded_amnt</th>\n",
       "      <th>term</th>\n",
       "      <th>int_rate</th>\n",
       "      <th>installment</th>\n",
       "      <th>grade</th>\n",
       "      <th>emp_length</th>\n",
       "      <th>home_ownership</th>\n",
       "      <th>annual_inc</th>\n",
       "      <th>verification_status</th>\n",
       "      <th>issue_d</th>\n",
       "      <th>loan_status</th>\n",
       "      <th>purpose</th>\n",
       "      <th>dti</th>\n",
       "      <th>delinq_2yrs</th>\n",
       "      <th>earliest_cr_line</th>\n",
       "      <th>open_acc</th>\n",
       "      <th>pub_rec</th>\n",
       "      <th>fico_range_high</th>\n",
       "      <th>fico_range_low</th>\n",
       "      <th>revol_bal</th>\n",
       "      <th>revol_util</th>\n",
       "      <th>total_pymnt</th>\n",
       "      <th>last_pymnt_d</th>\n",
       "      <th>recoveries</th>\n",
       "      <th>loan_length</th>\n",
       "      <th>term_num</th>\n",
       "    </tr>\n",
       "  </thead>\n",
       "  <tbody>\n",
       "    <tr>\n",
       "      <th>Percentage</th>\n",
       "      <td>0.0</td>\n",
       "      <td>0.0</td>\n",
       "      <td>0.0</td>\n",
       "      <td>0.0</td>\n",
       "      <td>0.0</td>\n",
       "      <td>0.0</td>\n",
       "      <td>0.0</td>\n",
       "      <td>6.259106</td>\n",
       "      <td>0.0</td>\n",
       "      <td>0.0</td>\n",
       "      <td>0.0</td>\n",
       "      <td>0.0</td>\n",
       "      <td>0.0</td>\n",
       "      <td>0.0</td>\n",
       "      <td>0.0</td>\n",
       "      <td>0.0</td>\n",
       "      <td>0.0</td>\n",
       "      <td>0.0</td>\n",
       "      <td>0.0</td>\n",
       "      <td>0.0</td>\n",
       "      <td>0.0</td>\n",
       "      <td>0.0</td>\n",
       "      <td>0.0</td>\n",
       "      <td>0.0</td>\n",
       "      <td>0.0</td>\n",
       "      <td>0.0</td>\n",
       "      <td>0.0</td>\n",
       "      <td>0.0</td>\n",
       "    </tr>\n",
       "  </tbody>\n",
       "</table>\n",
       "</div>"
      ],
      "text/plain": [
       "             id  loan_amnt  funded_amnt  term  int_rate  installment  grade  \\\n",
       "Percentage  0.0        0.0          0.0   0.0       0.0          0.0    0.0   \n",
       "\n",
       "            emp_length  home_ownership  annual_inc  verification_status  \\\n",
       "Percentage    6.259106             0.0         0.0                  0.0   \n",
       "\n",
       "            issue_d  loan_status  purpose  dti  delinq_2yrs  earliest_cr_line  \\\n",
       "Percentage      0.0          0.0      0.0  0.0          0.0               0.0   \n",
       "\n",
       "            open_acc  pub_rec  fico_range_high  fico_range_low  revol_bal  \\\n",
       "Percentage       0.0      0.0              0.0             0.0        0.0   \n",
       "\n",
       "            revol_util  total_pymnt  last_pymnt_d  recoveries  loan_length  \\\n",
       "Percentage         0.0          0.0           0.0         0.0          0.0   \n",
       "\n",
       "            term_num  \n",
       "Percentage       0.0  "
      ]
     },
     "execution_count": 9,
     "metadata": {},
     "output_type": "execute_result"
    }
   ],
   "source": [
    "# Calculate the percentage of missing values in df_read\n",
    "percentage_missing = df.isnull().sum() / len(df) * 100\n",
    "\n",
    "# Create a new DataFrame with columns from df and index set to None\n",
    "new_df = pd.DataFrame(columns=df.columns, index=None)\n",
    "pd.set_option('display.max_columns', None)\n",
    "\n",
    "# Creating new Percentage index\n",
    "new_df.loc['Percentage'] = percentage_missing.values\n",
    "new_df"
   ]
  },
  {
   "cell_type": "code",
   "execution_count": 10,
   "id": "23217b7c",
   "metadata": {
    "execution": {
     "iopub.execute_input": "2024-04-29T12:06:25.677618Z",
     "iopub.status.busy": "2024-04-29T12:06:25.677047Z",
     "iopub.status.idle": "2024-04-29T12:06:26.309079Z",
     "shell.execute_reply": "2024-04-29T12:06:26.307997Z"
    },
    "papermill": {
     "duration": 0.664561,
     "end_time": "2024-04-29T12:06:26.311136",
     "exception": false,
     "start_time": "2024-04-29T12:06:25.646575",
     "status": "completed"
    },
    "tags": []
   },
   "outputs": [
    {
     "name": "stdout",
     "output_type": "stream",
     "text": [
      "Total features before: 28\n",
      "Total features now: 28\n"
     ]
    }
   ],
   "source": [
    "# Keeping only those features with less than 20% of missing values\n",
    "features_to_keep = df.columns[((df.isnull().sum()/len(df))*100 < 20)].to_list()\n",
    "print(\"Total features before:\",len(df.columns))\n",
    "print(\"Total features now:\",len(features_to_keep))"
   ]
  },
  {
   "cell_type": "code",
   "execution_count": 11,
   "id": "cbd20d4f",
   "metadata": {
    "execution": {
     "iopub.execute_input": "2024-04-29T12:06:26.413869Z",
     "iopub.status.busy": "2024-04-29T12:06:26.413521Z",
     "iopub.status.idle": "2024-04-29T12:06:26.771060Z",
     "shell.execute_reply": "2024-04-29T12:06:26.770153Z"
    },
    "papermill": {
     "duration": 0.431339,
     "end_time": "2024-04-29T12:06:26.773136",
     "exception": false,
     "start_time": "2024-04-29T12:06:26.341797",
     "status": "completed"
    },
    "tags": []
   },
   "outputs": [
    {
     "data": {
      "text/html": [
       "<div>\n",
       "<style scoped>\n",
       "    .dataframe tbody tr th:only-of-type {\n",
       "        vertical-align: middle;\n",
       "    }\n",
       "\n",
       "    .dataframe tbody tr th {\n",
       "        vertical-align: top;\n",
       "    }\n",
       "\n",
       "    .dataframe thead th {\n",
       "        text-align: right;\n",
       "    }\n",
       "</style>\n",
       "<table border=\"1\" class=\"dataframe\">\n",
       "  <thead>\n",
       "    <tr style=\"text-align: right;\">\n",
       "      <th></th>\n",
       "      <th>loan_amnt</th>\n",
       "      <th>funded_amnt</th>\n",
       "      <th>int_rate</th>\n",
       "      <th>installment</th>\n",
       "      <th>annual_inc</th>\n",
       "      <th>dti</th>\n",
       "      <th>delinq_2yrs</th>\n",
       "      <th>open_acc</th>\n",
       "      <th>pub_rec</th>\n",
       "      <th>fico_range_high</th>\n",
       "      <th>fico_range_low</th>\n",
       "      <th>revol_bal</th>\n",
       "      <th>revol_util</th>\n",
       "      <th>total_pymnt</th>\n",
       "      <th>recoveries</th>\n",
       "      <th>loan_length</th>\n",
       "      <th>term_num</th>\n",
       "    </tr>\n",
       "  </thead>\n",
       "  <tbody>\n",
       "    <tr>\n",
       "      <th>count</th>\n",
       "      <td>605374.000000</td>\n",
       "      <td>605374.000000</td>\n",
       "      <td>605374.00000</td>\n",
       "      <td>605374.000000</td>\n",
       "      <td>6.053740e+05</td>\n",
       "      <td>605374.000000</td>\n",
       "      <td>605374.000000</td>\n",
       "      <td>605374.000000</td>\n",
       "      <td>605374.000000</td>\n",
       "      <td>605374.000000</td>\n",
       "      <td>605374.000000</td>\n",
       "      <td>6.053740e+05</td>\n",
       "      <td>605374.000000</td>\n",
       "      <td>605374.000000</td>\n",
       "      <td>605374.000000</td>\n",
       "      <td>605374.000000</td>\n",
       "      <td>605374.000000</td>\n",
       "    </tr>\n",
       "    <tr>\n",
       "      <th>mean</th>\n",
       "      <td>14552.362506</td>\n",
       "      <td>14552.362506</td>\n",
       "      <td>12.69876</td>\n",
       "      <td>439.151480</td>\n",
       "      <td>7.687993e+04</td>\n",
       "      <td>18.969691</td>\n",
       "      <td>0.338577</td>\n",
       "      <td>11.846685</td>\n",
       "      <td>0.239870</td>\n",
       "      <td>699.438314</td>\n",
       "      <td>695.438159</td>\n",
       "      <td>1.657829e+04</td>\n",
       "      <td>50.717241</td>\n",
       "      <td>14601.370444</td>\n",
       "      <td>254.129004</td>\n",
       "      <td>20.106174</td>\n",
       "      <td>41.682464</td>\n",
       "    </tr>\n",
       "    <tr>\n",
       "      <th>std</th>\n",
       "      <td>8795.106114</td>\n",
       "      <td>8795.106114</td>\n",
       "      <td>4.77739</td>\n",
       "      <td>262.995589</td>\n",
       "      <td>7.277882e+04</td>\n",
       "      <td>11.783039</td>\n",
       "      <td>0.920335</td>\n",
       "      <td>5.676809</td>\n",
       "      <td>0.641496</td>\n",
       "      <td>31.856039</td>\n",
       "      <td>31.855308</td>\n",
       "      <td>2.359003e+04</td>\n",
       "      <td>24.453887</td>\n",
       "      <td>10175.431179</td>\n",
       "      <td>982.899170</td>\n",
       "      <td>11.594011</td>\n",
       "      <td>10.202397</td>\n",
       "    </tr>\n",
       "    <tr>\n",
       "      <th>min</th>\n",
       "      <td>1000.000000</td>\n",
       "      <td>1000.000000</td>\n",
       "      <td>5.31000</td>\n",
       "      <td>14.010000</td>\n",
       "      <td>1.600000e+01</td>\n",
       "      <td>-1.000000</td>\n",
       "      <td>0.000000</td>\n",
       "      <td>1.000000</td>\n",
       "      <td>0.000000</td>\n",
       "      <td>664.000000</td>\n",
       "      <td>660.000000</td>\n",
       "      <td>0.000000e+00</td>\n",
       "      <td>0.000000</td>\n",
       "      <td>17.580000</td>\n",
       "      <td>0.000000</td>\n",
       "      <td>0.919937</td>\n",
       "      <td>36.000000</td>\n",
       "    </tr>\n",
       "    <tr>\n",
       "      <th>25%</th>\n",
       "      <td>8000.000000</td>\n",
       "      <td>8000.000000</td>\n",
       "      <td>9.17000</td>\n",
       "      <td>248.442500</td>\n",
       "      <td>4.571275e+04</td>\n",
       "      <td>12.190000</td>\n",
       "      <td>0.000000</td>\n",
       "      <td>8.000000</td>\n",
       "      <td>0.000000</td>\n",
       "      <td>674.000000</td>\n",
       "      <td>670.000000</td>\n",
       "      <td>5.856000e+03</td>\n",
       "      <td>32.300000</td>\n",
       "      <td>6704.651477</td>\n",
       "      <td>0.000000</td>\n",
       "      <td>10.020740</td>\n",
       "      <td>36.000000</td>\n",
       "    </tr>\n",
       "    <tr>\n",
       "      <th>50%</th>\n",
       "      <td>12000.000000</td>\n",
       "      <td>12000.000000</td>\n",
       "      <td>12.29000</td>\n",
       "      <td>373.920000</td>\n",
       "      <td>6.500000e+04</td>\n",
       "      <td>18.200000</td>\n",
       "      <td>0.000000</td>\n",
       "      <td>11.000000</td>\n",
       "      <td>0.000000</td>\n",
       "      <td>694.000000</td>\n",
       "      <td>690.000000</td>\n",
       "      <td>1.103700e+04</td>\n",
       "      <td>50.600000</td>\n",
       "      <td>11909.215060</td>\n",
       "      <td>0.000000</td>\n",
       "      <td>18.990123</td>\n",
       "      <td>36.000000</td>\n",
       "    </tr>\n",
       "    <tr>\n",
       "      <th>75%</th>\n",
       "      <td>20000.000000</td>\n",
       "      <td>20000.000000</td>\n",
       "      <td>15.59000</td>\n",
       "      <td>583.890000</td>\n",
       "      <td>9.181350e+04</td>\n",
       "      <td>24.980000</td>\n",
       "      <td>0.000000</td>\n",
       "      <td>15.000000</td>\n",
       "      <td>0.000000</td>\n",
       "      <td>714.000000</td>\n",
       "      <td>710.000000</td>\n",
       "      <td>1.985600e+04</td>\n",
       "      <td>69.300000</td>\n",
       "      <td>20320.256235</td>\n",
       "      <td>0.000000</td>\n",
       "      <td>31.047865</td>\n",
       "      <td>36.000000</td>\n",
       "    </tr>\n",
       "    <tr>\n",
       "      <th>max</th>\n",
       "      <td>40000.000000</td>\n",
       "      <td>40000.000000</td>\n",
       "      <td>30.99000</td>\n",
       "      <td>1719.830000</td>\n",
       "      <td>9.550000e+06</td>\n",
       "      <td>999.000000</td>\n",
       "      <td>39.000000</td>\n",
       "      <td>90.000000</td>\n",
       "      <td>86.000000</td>\n",
       "      <td>850.000000</td>\n",
       "      <td>845.000000</td>\n",
       "      <td>2.904836e+06</td>\n",
       "      <td>193.000000</td>\n",
       "      <td>61184.573800</td>\n",
       "      <td>35581.880000</td>\n",
       "      <td>49.939424</td>\n",
       "      <td>60.000000</td>\n",
       "    </tr>\n",
       "  </tbody>\n",
       "</table>\n",
       "</div>"
      ],
      "text/plain": [
       "           loan_amnt    funded_amnt      int_rate    installment  \\\n",
       "count  605374.000000  605374.000000  605374.00000  605374.000000   \n",
       "mean    14552.362506   14552.362506      12.69876     439.151480   \n",
       "std      8795.106114    8795.106114       4.77739     262.995589   \n",
       "min      1000.000000    1000.000000       5.31000      14.010000   \n",
       "25%      8000.000000    8000.000000       9.17000     248.442500   \n",
       "50%     12000.000000   12000.000000      12.29000     373.920000   \n",
       "75%     20000.000000   20000.000000      15.59000     583.890000   \n",
       "max     40000.000000   40000.000000      30.99000    1719.830000   \n",
       "\n",
       "         annual_inc            dti    delinq_2yrs       open_acc  \\\n",
       "count  6.053740e+05  605374.000000  605374.000000  605374.000000   \n",
       "mean   7.687993e+04      18.969691       0.338577      11.846685   \n",
       "std    7.277882e+04      11.783039       0.920335       5.676809   \n",
       "min    1.600000e+01      -1.000000       0.000000       1.000000   \n",
       "25%    4.571275e+04      12.190000       0.000000       8.000000   \n",
       "50%    6.500000e+04      18.200000       0.000000      11.000000   \n",
       "75%    9.181350e+04      24.980000       0.000000      15.000000   \n",
       "max    9.550000e+06     999.000000      39.000000      90.000000   \n",
       "\n",
       "             pub_rec  fico_range_high  fico_range_low     revol_bal  \\\n",
       "count  605374.000000    605374.000000   605374.000000  6.053740e+05   \n",
       "mean        0.239870       699.438314      695.438159  1.657829e+04   \n",
       "std         0.641496        31.856039       31.855308  2.359003e+04   \n",
       "min         0.000000       664.000000      660.000000  0.000000e+00   \n",
       "25%         0.000000       674.000000      670.000000  5.856000e+03   \n",
       "50%         0.000000       694.000000      690.000000  1.103700e+04   \n",
       "75%         0.000000       714.000000      710.000000  1.985600e+04   \n",
       "max        86.000000       850.000000      845.000000  2.904836e+06   \n",
       "\n",
       "          revol_util    total_pymnt     recoveries    loan_length  \\\n",
       "count  605374.000000  605374.000000  605374.000000  605374.000000   \n",
       "mean       50.717241   14601.370444     254.129004      20.106174   \n",
       "std        24.453887   10175.431179     982.899170      11.594011   \n",
       "min         0.000000      17.580000       0.000000       0.919937   \n",
       "25%        32.300000    6704.651477       0.000000      10.020740   \n",
       "50%        50.600000   11909.215060       0.000000      18.990123   \n",
       "75%        69.300000   20320.256235       0.000000      31.047865   \n",
       "max       193.000000   61184.573800   35581.880000      49.939424   \n",
       "\n",
       "            term_num  \n",
       "count  605374.000000  \n",
       "mean       41.682464  \n",
       "std        10.202397  \n",
       "min        36.000000  \n",
       "25%        36.000000  \n",
       "50%        36.000000  \n",
       "75%        36.000000  \n",
       "max        60.000000  "
      ]
     },
     "execution_count": 11,
     "metadata": {},
     "output_type": "execute_result"
    }
   ],
   "source": [
    "df.describe()"
   ]
  },
  {
   "cell_type": "code",
   "execution_count": 12,
   "id": "3495b064",
   "metadata": {
    "execution": {
     "iopub.execute_input": "2024-04-29T12:06:26.835742Z",
     "iopub.status.busy": "2024-04-29T12:06:26.835386Z",
     "iopub.status.idle": "2024-04-29T12:06:27.450097Z",
     "shell.execute_reply": "2024-04-29T12:06:27.449206Z"
    },
    "papermill": {
     "duration": 0.648045,
     "end_time": "2024-04-29T12:06:27.452260",
     "exception": false,
     "start_time": "2024-04-29T12:06:26.804215",
     "status": "completed"
    },
    "tags": []
   },
   "outputs": [
    {
     "data": {
      "text/plain": [
       "id                         0\n",
       "loan_amnt                  0\n",
       "funded_amnt                0\n",
       "term                       0\n",
       "int_rate                   0\n",
       "installment                0\n",
       "grade                      0\n",
       "emp_length             37891\n",
       "home_ownership             0\n",
       "annual_inc                 0\n",
       "verification_status        0\n",
       "issue_d                    0\n",
       "loan_status                0\n",
       "purpose                    0\n",
       "dti                        0\n",
       "delinq_2yrs                0\n",
       "earliest_cr_line           0\n",
       "open_acc                   0\n",
       "pub_rec                    0\n",
       "fico_range_high            0\n",
       "fico_range_low             0\n",
       "revol_bal                  0\n",
       "revol_util                 0\n",
       "total_pymnt                0\n",
       "last_pymnt_d               0\n",
       "recoveries                 0\n",
       "loan_length                0\n",
       "term_num                   0\n",
       "dtype: int64"
      ]
     },
     "execution_count": 12,
     "metadata": {},
     "output_type": "execute_result"
    }
   ],
   "source": [
    "df.isnull().sum()"
   ]
  },
  {
   "cell_type": "code",
   "execution_count": 13,
   "id": "1c810fdb",
   "metadata": {
    "execution": {
     "iopub.execute_input": "2024-04-29T12:06:27.516066Z",
     "iopub.status.busy": "2024-04-29T12:06:27.515765Z",
     "iopub.status.idle": "2024-04-29T12:06:27.677794Z",
     "shell.execute_reply": "2024-04-29T12:06:27.676959Z"
    },
    "papermill": {
     "duration": 0.195377,
     "end_time": "2024-04-29T12:06:27.679747",
     "exception": false,
     "start_time": "2024-04-29T12:06:27.484370",
     "status": "completed"
    },
    "tags": []
   },
   "outputs": [],
   "source": [
    "df['emp_length']=df['emp_length'].fillna(df['emp_length'].mode()[0])"
   ]
  },
  {
   "cell_type": "markdown",
   "id": "994b0173",
   "metadata": {
    "papermill": {
     "duration": 0.030407,
     "end_time": "2024-04-29T12:06:27.741250",
     "exception": false,
     "start_time": "2024-04-29T12:06:27.710843",
     "status": "completed"
    },
    "tags": []
   },
   "source": [
    "# Handling null values"
   ]
  },
  {
   "cell_type": "code",
   "execution_count": 14,
   "id": "b21b1e94",
   "metadata": {
    "execution": {
     "iopub.execute_input": "2024-04-29T12:06:27.804301Z",
     "iopub.status.busy": "2024-04-29T12:06:27.803493Z",
     "iopub.status.idle": "2024-04-29T12:06:27.820355Z",
     "shell.execute_reply": "2024-04-29T12:06:27.819626Z"
    },
    "papermill": {
     "duration": 0.050653,
     "end_time": "2024-04-29T12:06:27.822422",
     "exception": false,
     "start_time": "2024-04-29T12:06:27.771769",
     "status": "completed"
    },
    "tags": []
   },
   "outputs": [],
   "source": [
    "df['revol_util']=df['revol_util'].fillna(df['revol_util'].median())"
   ]
  },
  {
   "cell_type": "code",
   "execution_count": 15,
   "id": "864e4ad7",
   "metadata": {
    "execution": {
     "iopub.execute_input": "2024-04-29T12:06:27.885284Z",
     "iopub.status.busy": "2024-04-29T12:06:27.884978Z",
     "iopub.status.idle": "2024-04-29T12:06:27.914692Z",
     "shell.execute_reply": "2024-04-29T12:06:27.913851Z"
    },
    "papermill": {
     "duration": 0.062752,
     "end_time": "2024-04-29T12:06:27.916600",
     "exception": false,
     "start_time": "2024-04-29T12:06:27.853848",
     "status": "completed"
    },
    "tags": []
   },
   "outputs": [
    {
     "data": {
      "text/html": [
       "<div>\n",
       "<style scoped>\n",
       "    .dataframe tbody tr th:only-of-type {\n",
       "        vertical-align: middle;\n",
       "    }\n",
       "\n",
       "    .dataframe tbody tr th {\n",
       "        vertical-align: top;\n",
       "    }\n",
       "\n",
       "    .dataframe thead th {\n",
       "        text-align: right;\n",
       "    }\n",
       "</style>\n",
       "<table border=\"1\" class=\"dataframe\">\n",
       "  <thead>\n",
       "    <tr style=\"text-align: right;\">\n",
       "      <th></th>\n",
       "      <th>id</th>\n",
       "      <th>loan_amnt</th>\n",
       "      <th>funded_amnt</th>\n",
       "      <th>term</th>\n",
       "      <th>int_rate</th>\n",
       "      <th>installment</th>\n",
       "      <th>grade</th>\n",
       "      <th>emp_length</th>\n",
       "      <th>home_ownership</th>\n",
       "      <th>annual_inc</th>\n",
       "      <th>verification_status</th>\n",
       "      <th>issue_d</th>\n",
       "      <th>loan_status</th>\n",
       "      <th>purpose</th>\n",
       "      <th>dti</th>\n",
       "      <th>delinq_2yrs</th>\n",
       "      <th>earliest_cr_line</th>\n",
       "      <th>open_acc</th>\n",
       "      <th>pub_rec</th>\n",
       "      <th>fico_range_high</th>\n",
       "      <th>fico_range_low</th>\n",
       "      <th>revol_bal</th>\n",
       "      <th>revol_util</th>\n",
       "      <th>total_pymnt</th>\n",
       "      <th>last_pymnt_d</th>\n",
       "      <th>recoveries</th>\n",
       "      <th>loan_length</th>\n",
       "      <th>term_num</th>\n",
       "    </tr>\n",
       "  </thead>\n",
       "  <tbody>\n",
       "    <tr>\n",
       "      <th>0</th>\n",
       "      <td>40390412</td>\n",
       "      <td>5000.0</td>\n",
       "      <td>5000.0</td>\n",
       "      <td>36 months</td>\n",
       "      <td>12.39</td>\n",
       "      <td>167.01</td>\n",
       "      <td>C</td>\n",
       "      <td>&lt; 1 year</td>\n",
       "      <td>RENT</td>\n",
       "      <td>48000.0</td>\n",
       "      <td>Not Verified</td>\n",
       "      <td>2015-01-01</td>\n",
       "      <td>Fully Paid</td>\n",
       "      <td>debt_consolidation</td>\n",
       "      <td>14.25</td>\n",
       "      <td>0.0</td>\n",
       "      <td>2010-07-01</td>\n",
       "      <td>7.0</td>\n",
       "      <td>0.0</td>\n",
       "      <td>674.0</td>\n",
       "      <td>670.0</td>\n",
       "      <td>5994.0</td>\n",
       "      <td>44.4</td>\n",
       "      <td>5475.14000</td>\n",
       "      <td>2015-12-01</td>\n",
       "      <td>0.0</td>\n",
       "      <td>10.973531</td>\n",
       "      <td>36</td>\n",
       "    </tr>\n",
       "    <tr>\n",
       "      <th>2</th>\n",
       "      <td>40401108</td>\n",
       "      <td>17000.0</td>\n",
       "      <td>17000.0</td>\n",
       "      <td>36 months</td>\n",
       "      <td>12.39</td>\n",
       "      <td>567.82</td>\n",
       "      <td>C</td>\n",
       "      <td>1 year</td>\n",
       "      <td>RENT</td>\n",
       "      <td>53000.0</td>\n",
       "      <td>Not Verified</td>\n",
       "      <td>2015-01-01</td>\n",
       "      <td>Fully Paid</td>\n",
       "      <td>debt_consolidation</td>\n",
       "      <td>21.31</td>\n",
       "      <td>0.0</td>\n",
       "      <td>2006-09-01</td>\n",
       "      <td>12.0</td>\n",
       "      <td>0.0</td>\n",
       "      <td>684.0</td>\n",
       "      <td>680.0</td>\n",
       "      <td>14690.0</td>\n",
       "      <td>73.1</td>\n",
       "      <td>20452.09912</td>\n",
       "      <td>2018-03-01</td>\n",
       "      <td>0.0</td>\n",
       "      <td>37.947391</td>\n",
       "      <td>36</td>\n",
       "    </tr>\n",
       "    <tr>\n",
       "      <th>3</th>\n",
       "      <td>40501689</td>\n",
       "      <td>9000.0</td>\n",
       "      <td>9000.0</td>\n",
       "      <td>36 months</td>\n",
       "      <td>14.31</td>\n",
       "      <td>308.96</td>\n",
       "      <td>C</td>\n",
       "      <td>6 years</td>\n",
       "      <td>RENT</td>\n",
       "      <td>39000.0</td>\n",
       "      <td>Source Verified</td>\n",
       "      <td>2015-01-01</td>\n",
       "      <td>Fully Paid</td>\n",
       "      <td>credit_card</td>\n",
       "      <td>24.80</td>\n",
       "      <td>0.0</td>\n",
       "      <td>1982-11-01</td>\n",
       "      <td>10.0</td>\n",
       "      <td>0.0</td>\n",
       "      <td>719.0</td>\n",
       "      <td>715.0</td>\n",
       "      <td>26172.0</td>\n",
       "      <td>77.7</td>\n",
       "      <td>9792.56000</td>\n",
       "      <td>2015-11-01</td>\n",
       "      <td>0.0</td>\n",
       "      <td>9.987885</td>\n",
       "      <td>36</td>\n",
       "    </tr>\n",
       "    <tr>\n",
       "      <th>4</th>\n",
       "      <td>40352737</td>\n",
       "      <td>14000.0</td>\n",
       "      <td>14000.0</td>\n",
       "      <td>36 months</td>\n",
       "      <td>11.99</td>\n",
       "      <td>464.94</td>\n",
       "      <td>B</td>\n",
       "      <td>6 years</td>\n",
       "      <td>RENT</td>\n",
       "      <td>44000.0</td>\n",
       "      <td>Not Verified</td>\n",
       "      <td>2015-01-01</td>\n",
       "      <td>Fully Paid</td>\n",
       "      <td>debt_consolidation</td>\n",
       "      <td>18.41</td>\n",
       "      <td>0.0</td>\n",
       "      <td>2001-04-01</td>\n",
       "      <td>11.0</td>\n",
       "      <td>0.0</td>\n",
       "      <td>664.0</td>\n",
       "      <td>660.0</td>\n",
       "      <td>14330.0</td>\n",
       "      <td>34.8</td>\n",
       "      <td>16592.91130</td>\n",
       "      <td>2018-01-01</td>\n",
       "      <td>0.0</td>\n",
       "      <td>36.008953</td>\n",
       "      <td>36</td>\n",
       "    </tr>\n",
       "    <tr>\n",
       "      <th>5</th>\n",
       "      <td>40431323</td>\n",
       "      <td>10000.0</td>\n",
       "      <td>10000.0</td>\n",
       "      <td>60 months</td>\n",
       "      <td>19.24</td>\n",
       "      <td>260.73</td>\n",
       "      <td>E</td>\n",
       "      <td>10+ years</td>\n",
       "      <td>MORTGAGE</td>\n",
       "      <td>130000.0</td>\n",
       "      <td>Verified</td>\n",
       "      <td>2015-01-01</td>\n",
       "      <td>Fully Paid</td>\n",
       "      <td>debt_consolidation</td>\n",
       "      <td>13.73</td>\n",
       "      <td>0.0</td>\n",
       "      <td>1999-03-01</td>\n",
       "      <td>12.0</td>\n",
       "      <td>0.0</td>\n",
       "      <td>709.0</td>\n",
       "      <td>705.0</td>\n",
       "      <td>5947.0</td>\n",
       "      <td>44.1</td>\n",
       "      <td>15122.07997</td>\n",
       "      <td>2018-10-01</td>\n",
       "      <td>0.0</td>\n",
       "      <td>44.978336</td>\n",
       "      <td>60</td>\n",
       "    </tr>\n",
       "  </tbody>\n",
       "</table>\n",
       "</div>"
      ],
      "text/plain": [
       "         id  loan_amnt  funded_amnt        term  int_rate  installment grade  \\\n",
       "0  40390412     5000.0       5000.0   36 months     12.39       167.01     C   \n",
       "2  40401108    17000.0      17000.0   36 months     12.39       567.82     C   \n",
       "3  40501689     9000.0       9000.0   36 months     14.31       308.96     C   \n",
       "4  40352737    14000.0      14000.0   36 months     11.99       464.94     B   \n",
       "5  40431323    10000.0      10000.0   60 months     19.24       260.73     E   \n",
       "\n",
       "  emp_length home_ownership  annual_inc verification_status     issue_d  \\\n",
       "0   < 1 year           RENT     48000.0        Not Verified  2015-01-01   \n",
       "2     1 year           RENT     53000.0        Not Verified  2015-01-01   \n",
       "3    6 years           RENT     39000.0     Source Verified  2015-01-01   \n",
       "4    6 years           RENT     44000.0        Not Verified  2015-01-01   \n",
       "5  10+ years       MORTGAGE    130000.0            Verified  2015-01-01   \n",
       "\n",
       "  loan_status             purpose    dti  delinq_2yrs earliest_cr_line  \\\n",
       "0  Fully Paid  debt_consolidation  14.25          0.0       2010-07-01   \n",
       "2  Fully Paid  debt_consolidation  21.31          0.0       2006-09-01   \n",
       "3  Fully Paid         credit_card  24.80          0.0       1982-11-01   \n",
       "4  Fully Paid  debt_consolidation  18.41          0.0       2001-04-01   \n",
       "5  Fully Paid  debt_consolidation  13.73          0.0       1999-03-01   \n",
       "\n",
       "   open_acc  pub_rec  fico_range_high  fico_range_low  revol_bal  revol_util  \\\n",
       "0       7.0      0.0            674.0           670.0     5994.0        44.4   \n",
       "2      12.0      0.0            684.0           680.0    14690.0        73.1   \n",
       "3      10.0      0.0            719.0           715.0    26172.0        77.7   \n",
       "4      11.0      0.0            664.0           660.0    14330.0        34.8   \n",
       "5      12.0      0.0            709.0           705.0     5947.0        44.1   \n",
       "\n",
       "   total_pymnt last_pymnt_d  recoveries  loan_length  term_num  \n",
       "0   5475.14000   2015-12-01         0.0    10.973531        36  \n",
       "2  20452.09912   2018-03-01         0.0    37.947391        36  \n",
       "3   9792.56000   2015-11-01         0.0     9.987885        36  \n",
       "4  16592.91130   2018-01-01         0.0    36.008953        36  \n",
       "5  15122.07997   2018-10-01         0.0    44.978336        60  "
      ]
     },
     "execution_count": 15,
     "metadata": {},
     "output_type": "execute_result"
    }
   ],
   "source": [
    "df.head()"
   ]
  },
  {
   "cell_type": "markdown",
   "id": "5fb55810",
   "metadata": {
    "papermill": {
     "duration": 0.03043,
     "end_time": "2024-04-29T12:06:27.977852",
     "exception": false,
     "start_time": "2024-04-29T12:06:27.947422",
     "status": "completed"
    },
    "tags": []
   },
   "source": [
    "# Visualization"
   ]
  },
  {
   "cell_type": "markdown",
   "id": "c1e7e59a",
   "metadata": {
    "papermill": {
     "duration": 0.030085,
     "end_time": "2024-04-29T12:06:28.038569",
     "exception": false,
     "start_time": "2024-04-29T12:06:28.008484",
     "status": "completed"
    },
    "tags": []
   },
   "source": [
    "# Count Plot"
   ]
  },
  {
   "cell_type": "code",
   "execution_count": 16,
   "id": "ded21602",
   "metadata": {
    "execution": {
     "iopub.execute_input": "2024-04-29T12:06:28.101225Z",
     "iopub.status.busy": "2024-04-29T12:06:28.100349Z",
     "iopub.status.idle": "2024-04-29T12:06:29.483821Z",
     "shell.execute_reply": "2024-04-29T12:06:29.482882Z"
    },
    "papermill": {
     "duration": 1.417096,
     "end_time": "2024-04-29T12:06:29.485940",
     "exception": false,
     "start_time": "2024-04-29T12:06:28.068844",
     "status": "completed"
    },
    "tags": []
   },
   "outputs": [
    {
     "data": {
      "text/plain": [
       "Text(0.5, 1.0, 'Loan status count')"
      ]
     },
     "execution_count": 16,
     "metadata": {},
     "output_type": "execute_result"
    },
    {
     "data": {
      "image/png": "[encoded data removed]",
      "text/plain": [
       "<Figure size 1000x400 with 1 Axes>"
      ]
     },
     "metadata": {},
     "output_type": "display_data"
    }
   ],
   "source": [
    "fig, ax =plt.subplots(figsize=(10,4))\n",
    "sns.countplot(data=df,x=\"loan_status\",hue=\"term\",palette='dark')\n",
    "ax.set(xlabel='Status', ylabel='')\n",
    "ax.set_title('Loan status count', size=20)"
   ]
  },
  {
   "cell_type": "code",
   "execution_count": 17,
   "id": "dd1b3aa1",
   "metadata": {
    "execution": {
     "iopub.execute_input": "2024-04-29T12:06:29.550872Z",
     "iopub.status.busy": "2024-04-29T12:06:29.550565Z",
     "iopub.status.idle": "2024-04-29T12:06:31.032164Z",
     "shell.execute_reply": "2024-04-29T12:06:31.031204Z"
    },
    "papermill": {
     "duration": 1.51643,
     "end_time": "2024-04-29T12:06:31.034323",
     "exception": false,
     "start_time": "2024-04-29T12:06:29.517893",
     "status": "completed"
    },
    "tags": []
   },
   "outputs": [
    {
     "data": {
      "text/plain": [
       "Text(0.5, 1.0, 'Loan status count')"
      ]
     },
     "execution_count": 17,
     "metadata": {},
     "output_type": "execute_result"
    },
    {
     "data": {
      "image/png": "[encoded data removed]",
      "text/plain": [
       "<Figure size 1000x400 with 1 Axes>"
      ]
     },
     "metadata": {},
     "output_type": "display_data"
    }
   ],
   "source": [
    "fig, ax =plt.subplots(figsize=(10,4))\n",
    "sns.countplot(data=df,x=\"loan_status\",hue=\"verification_status\",palette='coolwarm')\n",
    "ax.set(xlabel='Status', ylabel='')\n",
    "ax.set_title('Loan status count', size=20)"
   ]
  },
  {
   "cell_type": "code",
   "execution_count": 18,
   "id": "dada5ac2",
   "metadata": {
    "execution": {
     "iopub.execute_input": "2024-04-29T12:06:31.103685Z",
     "iopub.status.busy": "2024-04-29T12:06:31.102768Z",
     "iopub.status.idle": "2024-04-29T12:06:31.959996Z",
     "shell.execute_reply": "2024-04-29T12:06:31.959077Z"
    },
    "papermill": {
     "duration": 0.894478,
     "end_time": "2024-04-29T12:06:31.962318",
     "exception": false,
     "start_time": "2024-04-29T12:06:31.067840",
     "status": "completed"
    },
    "tags": []
   },
   "outputs": [
    {
     "data": {
      "image/png": "[encoded data removed]",
      "text/plain": [
       "<Figure size 1000x400 with 1 Axes>"
      ]
     },
     "metadata": {},
     "output_type": "display_data"
    }
   ],
   "source": [
    "fig, ax =plt.subplots(figsize=(10,4))\n",
    "sns.countplot(data=df,x=\"emp_length\",palette='spring')\n",
    "ax.set(xlabel='Length of Employmnet', ylabel='')\n",
    "ax.set_title('Loan status count', size=20)\n",
    "plt.xticks(rotation='vertical')\n",
    "plt.show()"
   ]
  },
  {
   "cell_type": "code",
   "execution_count": 19,
   "id": "4bfddc80",
   "metadata": {
    "execution": {
     "iopub.execute_input": "2024-04-29T12:06:32.031754Z",
     "iopub.status.busy": "2024-04-29T12:06:32.031400Z",
     "iopub.status.idle": "2024-04-29T12:06:32.764942Z",
     "shell.execute_reply": "2024-04-29T12:06:32.763720Z"
    },
    "papermill": {
     "duration": 0.769889,
     "end_time": "2024-04-29T12:06:32.767049",
     "exception": false,
     "start_time": "2024-04-29T12:06:31.997160",
     "status": "completed"
    },
    "tags": []
   },
   "outputs": [
    {
     "data": {
      "image/png": "[encoded data removed]",
      "text/plain": [
       "<Figure size 1000x400 with 1 Axes>"
      ]
     },
     "metadata": {},
     "output_type": "display_data"
    }
   ],
   "source": [
    "fig, ax =plt.subplots(figsize=(10,4))\n",
    "sns.countplot(data=df,y=\"grade\",palette='rocket')\n",
    "ax.set_title('Loan Grades count', size=20)\n",
    "plt.show()"
   ]
  },
  {
   "cell_type": "code",
   "execution_count": 20,
   "id": "034a5604",
   "metadata": {
    "execution": {
     "iopub.execute_input": "2024-04-29T12:06:32.835770Z",
     "iopub.status.busy": "2024-04-29T12:06:32.834935Z",
     "iopub.status.idle": "2024-04-29T12:06:37.716537Z",
     "shell.execute_reply": "2024-04-29T12:06:37.715578Z"
    },
    "papermill": {
     "duration": 4.918013,
     "end_time": "2024-04-29T12:06:37.718925",
     "exception": false,
     "start_time": "2024-04-29T12:06:32.800912",
     "status": "completed"
    },
    "tags": []
   },
   "outputs": [
    {
     "data": {
      "image/png": "[encoded data removed]",
      "text/plain": [
       "<Figure size 1000x400 with 1 Axes>"
      ]
     },
     "metadata": {},
     "output_type": "display_data"
    }
   ],
   "source": [
    "fig, ax =plt.subplots(figsize=(10,4))\n",
    "sns.barplot(data=df,x=\"purpose\",y='loan_amnt',palette='spring')\n",
    "ax.set(xlabel='Purpose', ylabel='Amount')\n",
    "ax.set_title('Purpose vs Loan_ Amount', size=20)\n",
    "plt.xticks(rotation='vertical')\n",
    "plt.show()"
   ]
  },
  {
   "cell_type": "markdown",
   "id": "1db106f9",
   "metadata": {
    "papermill": {
     "duration": 0.033786,
     "end_time": "2024-04-29T12:06:37.787791",
     "exception": false,
     "start_time": "2024-04-29T12:06:37.754005",
     "status": "completed"
    },
    "tags": []
   },
   "source": [
    "# Bar plot"
   ]
  },
  {
   "cell_type": "code",
   "execution_count": 21,
   "id": "06ddf67c",
   "metadata": {
    "execution": {
     "iopub.execute_input": "2024-04-29T12:06:37.859413Z",
     "iopub.status.busy": "2024-04-29T12:06:37.858749Z",
     "iopub.status.idle": "2024-04-29T12:06:42.491478Z",
     "shell.execute_reply": "2024-04-29T12:06:42.490586Z"
    },
    "papermill": {
     "duration": 4.670438,
     "end_time": "2024-04-29T12:06:42.493693",
     "exception": false,
     "start_time": "2024-04-29T12:06:37.823255",
     "status": "completed"
    },
    "tags": []
   },
   "outputs": [
    {
     "data": {
      "image/png": "[encoded data removed]",
      "text/plain": [
       "<Figure size 1000x400 with 1 Axes>"
      ]
     },
     "metadata": {},
     "output_type": "display_data"
    }
   ],
   "source": [
    "fig, ax =plt.subplots(figsize=(10,4))\n",
    "sns.barplot(data=df,x=\"home_ownership\",y='annual_inc',palette='viridis')\n",
    "ax.set(xlabel='Home Ownership', ylabel='Annual Income')\n",
    "ax.set_title('Home Ownership vs Annual Income', size=20)\n",
    "plt.show()"
   ]
  },
  {
   "cell_type": "code",
   "execution_count": 22,
   "id": "a89a9297",
   "metadata": {
    "execution": {
     "iopub.execute_input": "2024-04-29T12:06:42.565160Z",
     "iopub.status.busy": "2024-04-29T12:06:42.564779Z",
     "iopub.status.idle": "2024-04-29T12:06:42.572151Z",
     "shell.execute_reply": "2024-04-29T12:06:42.571273Z"
    },
    "papermill": {
     "duration": 0.04525,
     "end_time": "2024-04-29T12:06:42.574082",
     "exception": false,
     "start_time": "2024-04-29T12:06:42.528832",
     "status": "completed"
    },
    "tags": []
   },
   "outputs": [],
   "source": [
    "# Dividing our features into categorical and numerical\n",
    "categorical=[feature for feature in df.columns if df[feature].dtype=='object']\n",
    "numerical=[feature for feature in df.columns if feature not in categorical]"
   ]
  },
  {
   "cell_type": "markdown",
   "id": "148a829b",
   "metadata": {
    "papermill": {
     "duration": 0.034811,
     "end_time": "2024-04-29T12:06:42.643554",
     "exception": false,
     "start_time": "2024-04-29T12:06:42.608743",
     "status": "completed"
    },
    "tags": []
   },
   "source": [
    "# Heatmap"
   ]
  },
  {
   "cell_type": "code",
   "execution_count": 23,
   "id": "131fbf83",
   "metadata": {
    "execution": {
     "iopub.execute_input": "2024-04-29T12:06:42.715066Z",
     "iopub.status.busy": "2024-04-29T12:06:42.714710Z",
     "iopub.status.idle": "2024-04-29T12:06:44.273030Z",
     "shell.execute_reply": "2024-04-29T12:06:44.272112Z"
    },
    "papermill": {
     "duration": 1.598116,
     "end_time": "2024-04-29T12:06:44.276684",
     "exception": false,
     "start_time": "2024-04-29T12:06:42.678568",
     "status": "completed"
    },
    "tags": []
   },
   "outputs": [
    {
     "data": {
      "image/png": "[encoded data removed]",
      "text/plain": [
       "<Figure size 1500x1000 with 2 Axes>"
      ]
     },
     "metadata": {},
     "output_type": "display_data"
    }
   ],
   "source": [
    "# Plotting a heatmap\n",
    "plt.figure(figsize=(15,10))\n",
    "sns.heatmap(df[numerical].corr(), annot=True)\n",
    "plt.show()\n"
   ]
  },
  {
   "cell_type": "markdown",
   "id": "b3bcd1d6",
   "metadata": {
    "papermill": {
     "duration": 0.037993,
     "end_time": "2024-04-29T12:06:44.352639",
     "exception": false,
     "start_time": "2024-04-29T12:06:44.314646",
     "status": "completed"
    },
    "tags": []
   },
   "source": [
    "# Displaying Catagorical and Numerical Data"
   ]
  },
  {
   "cell_type": "code",
   "execution_count": 24,
   "id": "ba6bf57c",
   "metadata": {
    "execution": {
     "iopub.execute_input": "2024-04-29T12:06:44.429907Z",
     "iopub.status.busy": "2024-04-29T12:06:44.429151Z",
     "iopub.status.idle": "2024-04-29T12:06:44.434019Z",
     "shell.execute_reply": "2024-04-29T12:06:44.433140Z"
    },
    "papermill": {
     "duration": 0.046324,
     "end_time": "2024-04-29T12:06:44.436275",
     "exception": false,
     "start_time": "2024-04-29T12:06:44.389951",
     "status": "completed"
    },
    "tags": []
   },
   "outputs": [
    {
     "name": "stdout",
     "output_type": "stream",
     "text": [
      "Categorical columns: ['id', 'term', 'grade', 'emp_length', 'home_ownership', 'verification_status', 'issue_d', 'loan_status', 'purpose', 'earliest_cr_line', 'last_pymnt_d']\n",
      "Numerical columns: ['loan_amnt', 'funded_amnt', 'int_rate', 'installment', 'annual_inc', 'dti', 'delinq_2yrs', 'open_acc', 'pub_rec', 'fico_range_high', 'fico_range_low', 'revol_bal', 'revol_util', 'total_pymnt', 'recoveries', 'loan_length', 'term_num']\n"
     ]
    }
   ],
   "source": [
    "print(\"Categorical columns:\",categorical)\n",
    "print(\"Numerical columns:\",numerical)"
   ]
  },
  {
   "cell_type": "markdown",
   "id": "4c499bde",
   "metadata": {
    "papermill": {
     "duration": 0.037012,
     "end_time": "2024-04-29T12:06:44.512999",
     "exception": false,
     "start_time": "2024-04-29T12:06:44.475987",
     "status": "completed"
    },
    "tags": []
   },
   "source": [
    "# Preprocessing Data"
   ]
  },
  {
   "cell_type": "code",
   "execution_count": 25,
   "id": "cf23d74e",
   "metadata": {
    "execution": {
     "iopub.execute_input": "2024-04-29T12:06:44.590664Z",
     "iopub.status.busy": "2024-04-29T12:06:44.590282Z",
     "iopub.status.idle": "2024-04-29T12:06:44.641322Z",
     "shell.execute_reply": "2024-04-29T12:06:44.640457Z"
    },
    "papermill": {
     "duration": 0.092337,
     "end_time": "2024-04-29T12:06:44.643242",
     "exception": false,
     "start_time": "2024-04-29T12:06:44.550905",
     "status": "completed"
    },
    "tags": []
   },
   "outputs": [
    {
     "data": {
      "text/plain": [
       "array(['Fully Paid', 'Charged Off', 'Default'], dtype=object)"
      ]
     },
     "execution_count": 25,
     "metadata": {},
     "output_type": "execute_result"
    }
   ],
   "source": [
    "df['loan_status'].unique()"
   ]
  },
  {
   "cell_type": "code",
   "execution_count": 26,
   "id": "539a6454",
   "metadata": {
    "execution": {
     "iopub.execute_input": "2024-04-29T12:06:44.721939Z",
     "iopub.status.busy": "2024-04-29T12:06:44.721604Z",
     "iopub.status.idle": "2024-04-29T12:06:44.820198Z",
     "shell.execute_reply": "2024-04-29T12:06:44.819391Z"
    },
    "papermill": {
     "duration": 0.139954,
     "end_time": "2024-04-29T12:06:44.822213",
     "exception": false,
     "start_time": "2024-04-29T12:06:44.682259",
     "status": "completed"
    },
    "tags": []
   },
   "outputs": [],
   "source": [
    "\n",
    "\n",
    "# Replace 'Default' with 1 and all other values with 0\n",
    "df['loan_status'] = np.where(df['loan_status'] == 'Default', 1, 0)\n"
   ]
  },
  {
   "cell_type": "code",
   "execution_count": 27,
   "id": "ad50edef",
   "metadata": {
    "execution": {
     "iopub.execute_input": "2024-04-29T12:06:44.899476Z",
     "iopub.status.busy": "2024-04-29T12:06:44.899121Z",
     "iopub.status.idle": "2024-04-29T12:06:44.906675Z",
     "shell.execute_reply": "2024-04-29T12:06:44.905748Z"
    },
    "papermill": {
     "duration": 0.048235,
     "end_time": "2024-04-29T12:06:44.908586",
     "exception": false,
     "start_time": "2024-04-29T12:06:44.860351",
     "status": "completed"
    },
    "tags": []
   },
   "outputs": [
    {
     "data": {
      "text/plain": [
       "0          0\n",
       "2          0\n",
       "3          0\n",
       "4          0\n",
       "5          0\n",
       "          ..\n",
       "1048430    0\n",
       "1048442    0\n",
       "1048471    0\n",
       "1048488    0\n",
       "1048541    0\n",
       "Name: loan_status, Length: 605374, dtype: int64"
      ]
     },
     "execution_count": 27,
     "metadata": {},
     "output_type": "execute_result"
    }
   ],
   "source": [
    "df['loan_status']"
   ]
  },
  {
   "cell_type": "code",
   "execution_count": 28,
   "id": "8a516bda",
   "metadata": {
    "execution": {
     "iopub.execute_input": "2024-04-29T12:06:44.987025Z",
     "iopub.status.busy": "2024-04-29T12:06:44.986646Z",
     "iopub.status.idle": "2024-04-29T12:06:45.650965Z",
     "shell.execute_reply": "2024-04-29T12:06:45.650158Z"
    },
    "papermill": {
     "duration": 0.706,
     "end_time": "2024-04-29T12:06:45.653210",
     "exception": false,
     "start_time": "2024-04-29T12:06:44.947210",
     "status": "completed"
    },
    "tags": []
   },
   "outputs": [],
   "source": [
    "8# One hot encoding\n",
    "df=pd.get_dummies(data=df,columns=['home_ownership','verification_status','purpose'],drop_first=True, dtype=np.uint8)\n"
   ]
  },
  {
   "cell_type": "code",
   "execution_count": 29,
   "id": "1640808a",
   "metadata": {
    "execution": {
     "iopub.execute_input": "2024-04-29T12:06:45.732334Z",
     "iopub.status.busy": "2024-04-29T12:06:45.731528Z",
     "iopub.status.idle": "2024-04-29T12:06:45.768831Z",
     "shell.execute_reply": "2024-04-29T12:06:45.767966Z"
    },
    "papermill": {
     "duration": 0.078484,
     "end_time": "2024-04-29T12:06:45.770676",
     "exception": false,
     "start_time": "2024-04-29T12:06:45.692192",
     "status": "completed"
    },
    "tags": []
   },
   "outputs": [
    {
     "data": {
      "text/html": [
       "<div>\n",
       "<style scoped>\n",
       "    .dataframe tbody tr th:only-of-type {\n",
       "        vertical-align: middle;\n",
       "    }\n",
       "\n",
       "    .dataframe tbody tr th {\n",
       "        vertical-align: top;\n",
       "    }\n",
       "\n",
       "    .dataframe thead th {\n",
       "        text-align: right;\n",
       "    }\n",
       "</style>\n",
       "<table border=\"1\" class=\"dataframe\">\n",
       "  <thead>\n",
       "    <tr style=\"text-align: right;\">\n",
       "      <th></th>\n",
       "      <th>id</th>\n",
       "      <th>loan_amnt</th>\n",
       "      <th>funded_amnt</th>\n",
       "      <th>term</th>\n",
       "      <th>int_rate</th>\n",
       "      <th>installment</th>\n",
       "      <th>grade</th>\n",
       "      <th>emp_length</th>\n",
       "      <th>annual_inc</th>\n",
       "      <th>issue_d</th>\n",
       "      <th>loan_status</th>\n",
       "      <th>dti</th>\n",
       "      <th>delinq_2yrs</th>\n",
       "      <th>earliest_cr_line</th>\n",
       "      <th>open_acc</th>\n",
       "      <th>pub_rec</th>\n",
       "      <th>fico_range_high</th>\n",
       "      <th>fico_range_low</th>\n",
       "      <th>revol_bal</th>\n",
       "      <th>revol_util</th>\n",
       "      <th>total_pymnt</th>\n",
       "      <th>last_pymnt_d</th>\n",
       "      <th>recoveries</th>\n",
       "      <th>loan_length</th>\n",
       "      <th>term_num</th>\n",
       "      <th>home_ownership_MORTGAGE</th>\n",
       "      <th>home_ownership_NONE</th>\n",
       "      <th>home_ownership_OWN</th>\n",
       "      <th>home_ownership_RENT</th>\n",
       "      <th>verification_status_Source Verified</th>\n",
       "      <th>verification_status_Verified</th>\n",
       "      <th>purpose_credit_card</th>\n",
       "      <th>purpose_debt_consolidation</th>\n",
       "      <th>purpose_educational</th>\n",
       "      <th>purpose_home_improvement</th>\n",
       "      <th>purpose_house</th>\n",
       "      <th>purpose_major_purchase</th>\n",
       "      <th>purpose_medical</th>\n",
       "      <th>purpose_moving</th>\n",
       "      <th>purpose_other</th>\n",
       "      <th>purpose_renewable_energy</th>\n",
       "      <th>purpose_small_business</th>\n",
       "      <th>purpose_vacation</th>\n",
       "      <th>purpose_wedding</th>\n",
       "    </tr>\n",
       "  </thead>\n",
       "  <tbody>\n",
       "    <tr>\n",
       "      <th>0</th>\n",
       "      <td>40390412</td>\n",
       "      <td>5000.0</td>\n",
       "      <td>5000.0</td>\n",
       "      <td>36 months</td>\n",
       "      <td>12.39</td>\n",
       "      <td>167.01</td>\n",
       "      <td>C</td>\n",
       "      <td>&lt; 1 year</td>\n",
       "      <td>48000.0</td>\n",
       "      <td>2015-01-01</td>\n",
       "      <td>0</td>\n",
       "      <td>14.25</td>\n",
       "      <td>0.0</td>\n",
       "      <td>2010-07-01</td>\n",
       "      <td>7.0</td>\n",
       "      <td>0.0</td>\n",
       "      <td>674.0</td>\n",
       "      <td>670.0</td>\n",
       "      <td>5994.0</td>\n",
       "      <td>44.4</td>\n",
       "      <td>5475.14000</td>\n",
       "      <td>2015-12-01</td>\n",
       "      <td>0.0</td>\n",
       "      <td>10.973531</td>\n",
       "      <td>36</td>\n",
       "      <td>0</td>\n",
       "      <td>0</td>\n",
       "      <td>0</td>\n",
       "      <td>1</td>\n",
       "      <td>0</td>\n",
       "      <td>0</td>\n",
       "      <td>0</td>\n",
       "      <td>1</td>\n",
       "      <td>0</td>\n",
       "      <td>0</td>\n",
       "      <td>0</td>\n",
       "      <td>0</td>\n",
       "      <td>0</td>\n",
       "      <td>0</td>\n",
       "      <td>0</td>\n",
       "      <td>0</td>\n",
       "      <td>0</td>\n",
       "      <td>0</td>\n",
       "      <td>0</td>\n",
       "    </tr>\n",
       "    <tr>\n",
       "      <th>2</th>\n",
       "      <td>40401108</td>\n",
       "      <td>17000.0</td>\n",
       "      <td>17000.0</td>\n",
       "      <td>36 months</td>\n",
       "      <td>12.39</td>\n",
       "      <td>567.82</td>\n",
       "      <td>C</td>\n",
       "      <td>1 year</td>\n",
       "      <td>53000.0</td>\n",
       "      <td>2015-01-01</td>\n",
       "      <td>0</td>\n",
       "      <td>21.31</td>\n",
       "      <td>0.0</td>\n",
       "      <td>2006-09-01</td>\n",
       "      <td>12.0</td>\n",
       "      <td>0.0</td>\n",
       "      <td>684.0</td>\n",
       "      <td>680.0</td>\n",
       "      <td>14690.0</td>\n",
       "      <td>73.1</td>\n",
       "      <td>20452.09912</td>\n",
       "      <td>2018-03-01</td>\n",
       "      <td>0.0</td>\n",
       "      <td>37.947391</td>\n",
       "      <td>36</td>\n",
       "      <td>0</td>\n",
       "      <td>0</td>\n",
       "      <td>0</td>\n",
       "      <td>1</td>\n",
       "      <td>0</td>\n",
       "      <td>0</td>\n",
       "      <td>0</td>\n",
       "      <td>1</td>\n",
       "      <td>0</td>\n",
       "      <td>0</td>\n",
       "      <td>0</td>\n",
       "      <td>0</td>\n",
       "      <td>0</td>\n",
       "      <td>0</td>\n",
       "      <td>0</td>\n",
       "      <td>0</td>\n",
       "      <td>0</td>\n",
       "      <td>0</td>\n",
       "      <td>0</td>\n",
       "    </tr>\n",
       "    <tr>\n",
       "      <th>3</th>\n",
       "      <td>40501689</td>\n",
       "      <td>9000.0</td>\n",
       "      <td>9000.0</td>\n",
       "      <td>36 months</td>\n",
       "      <td>14.31</td>\n",
       "      <td>308.96</td>\n",
       "      <td>C</td>\n",
       "      <td>6 years</td>\n",
       "      <td>39000.0</td>\n",
       "      <td>2015-01-01</td>\n",
       "      <td>0</td>\n",
       "      <td>24.80</td>\n",
       "      <td>0.0</td>\n",
       "      <td>1982-11-01</td>\n",
       "      <td>10.0</td>\n",
       "      <td>0.0</td>\n",
       "      <td>719.0</td>\n",
       "      <td>715.0</td>\n",
       "      <td>26172.0</td>\n",
       "      <td>77.7</td>\n",
       "      <td>9792.56000</td>\n",
       "      <td>2015-11-01</td>\n",
       "      <td>0.0</td>\n",
       "      <td>9.987885</td>\n",
       "      <td>36</td>\n",
       "      <td>0</td>\n",
       "      <td>0</td>\n",
       "      <td>0</td>\n",
       "      <td>1</td>\n",
       "      <td>1</td>\n",
       "      <td>0</td>\n",
       "      <td>1</td>\n",
       "      <td>0</td>\n",
       "      <td>0</td>\n",
       "      <td>0</td>\n",
       "      <td>0</td>\n",
       "      <td>0</td>\n",
       "      <td>0</td>\n",
       "      <td>0</td>\n",
       "      <td>0</td>\n",
       "      <td>0</td>\n",
       "      <td>0</td>\n",
       "      <td>0</td>\n",
       "      <td>0</td>\n",
       "    </tr>\n",
       "    <tr>\n",
       "      <th>4</th>\n",
       "      <td>40352737</td>\n",
       "      <td>14000.0</td>\n",
       "      <td>14000.0</td>\n",
       "      <td>36 months</td>\n",
       "      <td>11.99</td>\n",
       "      <td>464.94</td>\n",
       "      <td>B</td>\n",
       "      <td>6 years</td>\n",
       "      <td>44000.0</td>\n",
       "      <td>2015-01-01</td>\n",
       "      <td>0</td>\n",
       "      <td>18.41</td>\n",
       "      <td>0.0</td>\n",
       "      <td>2001-04-01</td>\n",
       "      <td>11.0</td>\n",
       "      <td>0.0</td>\n",
       "      <td>664.0</td>\n",
       "      <td>660.0</td>\n",
       "      <td>14330.0</td>\n",
       "      <td>34.8</td>\n",
       "      <td>16592.91130</td>\n",
       "      <td>2018-01-01</td>\n",
       "      <td>0.0</td>\n",
       "      <td>36.008953</td>\n",
       "      <td>36</td>\n",
       "      <td>0</td>\n",
       "      <td>0</td>\n",
       "      <td>0</td>\n",
       "      <td>1</td>\n",
       "      <td>0</td>\n",
       "      <td>0</td>\n",
       "      <td>0</td>\n",
       "      <td>1</td>\n",
       "      <td>0</td>\n",
       "      <td>0</td>\n",
       "      <td>0</td>\n",
       "      <td>0</td>\n",
       "      <td>0</td>\n",
       "      <td>0</td>\n",
       "      <td>0</td>\n",
       "      <td>0</td>\n",
       "      <td>0</td>\n",
       "      <td>0</td>\n",
       "      <td>0</td>\n",
       "    </tr>\n",
       "    <tr>\n",
       "      <th>5</th>\n",
       "      <td>40431323</td>\n",
       "      <td>10000.0</td>\n",
       "      <td>10000.0</td>\n",
       "      <td>60 months</td>\n",
       "      <td>19.24</td>\n",
       "      <td>260.73</td>\n",
       "      <td>E</td>\n",
       "      <td>10+ years</td>\n",
       "      <td>130000.0</td>\n",
       "      <td>2015-01-01</td>\n",
       "      <td>0</td>\n",
       "      <td>13.73</td>\n",
       "      <td>0.0</td>\n",
       "      <td>1999-03-01</td>\n",
       "      <td>12.0</td>\n",
       "      <td>0.0</td>\n",
       "      <td>709.0</td>\n",
       "      <td>705.0</td>\n",
       "      <td>5947.0</td>\n",
       "      <td>44.1</td>\n",
       "      <td>15122.07997</td>\n",
       "      <td>2018-10-01</td>\n",
       "      <td>0.0</td>\n",
       "      <td>44.978336</td>\n",
       "      <td>60</td>\n",
       "      <td>1</td>\n",
       "      <td>0</td>\n",
       "      <td>0</td>\n",
       "      <td>0</td>\n",
       "      <td>0</td>\n",
       "      <td>1</td>\n",
       "      <td>0</td>\n",
       "      <td>1</td>\n",
       "      <td>0</td>\n",
       "      <td>0</td>\n",
       "      <td>0</td>\n",
       "      <td>0</td>\n",
       "      <td>0</td>\n",
       "      <td>0</td>\n",
       "      <td>0</td>\n",
       "      <td>0</td>\n",
       "      <td>0</td>\n",
       "      <td>0</td>\n",
       "      <td>0</td>\n",
       "    </tr>\n",
       "  </tbody>\n",
       "</table>\n",
       "</div>"
      ],
      "text/plain": [
       "         id  loan_amnt  funded_amnt        term  int_rate  installment grade  \\\n",
       "0  40390412     5000.0       5000.0   36 months     12.39       167.01     C   \n",
       "2  40401108    17000.0      17000.0   36 months     12.39       567.82     C   \n",
       "3  40501689     9000.0       9000.0   36 months     14.31       308.96     C   \n",
       "4  40352737    14000.0      14000.0   36 months     11.99       464.94     B   \n",
       "5  40431323    10000.0      10000.0   60 months     19.24       260.73     E   \n",
       "\n",
       "  emp_length  annual_inc     issue_d  loan_status    dti  delinq_2yrs  \\\n",
       "0   < 1 year     48000.0  2015-01-01            0  14.25          0.0   \n",
       "2     1 year     53000.0  2015-01-01            0  21.31          0.0   \n",
       "3    6 years     39000.0  2015-01-01            0  24.80          0.0   \n",
       "4    6 years     44000.0  2015-01-01            0  18.41          0.0   \n",
       "5  10+ years    130000.0  2015-01-01            0  13.73          0.0   \n",
       "\n",
       "  earliest_cr_line  open_acc  pub_rec  fico_range_high  fico_range_low  \\\n",
       "0       2010-07-01       7.0      0.0            674.0           670.0   \n",
       "2       2006-09-01      12.0      0.0            684.0           680.0   \n",
       "3       1982-11-01      10.0      0.0            719.0           715.0   \n",
       "4       2001-04-01      11.0      0.0            664.0           660.0   \n",
       "5       1999-03-01      12.0      0.0            709.0           705.0   \n",
       "\n",
       "   revol_bal  revol_util  total_pymnt last_pymnt_d  recoveries  loan_length  \\\n",
       "0     5994.0        44.4   5475.14000   2015-12-01         0.0    10.973531   \n",
       "2    14690.0        73.1  20452.09912   2018-03-01         0.0    37.947391   \n",
       "3    26172.0        77.7   9792.56000   2015-11-01         0.0     9.987885   \n",
       "4    14330.0        34.8  16592.91130   2018-01-01         0.0    36.008953   \n",
       "5     5947.0        44.1  15122.07997   2018-10-01         0.0    44.978336   \n",
       "\n",
       "   term_num  home_ownership_MORTGAGE  home_ownership_NONE  home_ownership_OWN  \\\n",
       "0        36                        0                    0                   0   \n",
       "2        36                        0                    0                   0   \n",
       "3        36                        0                    0                   0   \n",
       "4        36                        0                    0                   0   \n",
       "5        60                        1                    0                   0   \n",
       "\n",
       "   home_ownership_RENT  verification_status_Source Verified  \\\n",
       "0                    1                                    0   \n",
       "2                    1                                    0   \n",
       "3                    1                                    1   \n",
       "4                    1                                    0   \n",
       "5                    0                                    0   \n",
       "\n",
       "   verification_status_Verified  purpose_credit_card  \\\n",
       "0                             0                    0   \n",
       "2                             0                    0   \n",
       "3                             0                    1   \n",
       "4                             0                    0   \n",
       "5                             1                    0   \n",
       "\n",
       "   purpose_debt_consolidation  purpose_educational  purpose_home_improvement  \\\n",
       "0                           1                    0                         0   \n",
       "2                           1                    0                         0   \n",
       "3                           0                    0                         0   \n",
       "4                           1                    0                         0   \n",
       "5                           1                    0                         0   \n",
       "\n",
       "   purpose_house  purpose_major_purchase  purpose_medical  purpose_moving  \\\n",
       "0              0                       0                0               0   \n",
       "2              0                       0                0               0   \n",
       "3              0                       0                0               0   \n",
       "4              0                       0                0               0   \n",
       "5              0                       0                0               0   \n",
       "\n",
       "   purpose_other  purpose_renewable_energy  purpose_small_business  \\\n",
       "0              0                         0                       0   \n",
       "2              0                         0                       0   \n",
       "3              0                         0                       0   \n",
       "4              0                         0                       0   \n",
       "5              0                         0                       0   \n",
       "\n",
       "   purpose_vacation  purpose_wedding  \n",
       "0                 0                0  \n",
       "2                 0                0  \n",
       "3                 0                0  \n",
       "4                 0                0  \n",
       "5                 0                0  "
      ]
     },
     "execution_count": 29,
     "metadata": {},
     "output_type": "execute_result"
    }
   ],
   "source": [
    "df.head()"
   ]
  },
  {
   "cell_type": "code",
   "execution_count": 30,
   "id": "1ec21eb1",
   "metadata": {
    "execution": {
     "iopub.execute_input": "2024-04-29T12:06:45.851686Z",
     "iopub.status.busy": "2024-04-29T12:06:45.850730Z",
     "iopub.status.idle": "2024-04-29T12:06:45.859879Z",
     "shell.execute_reply": "2024-04-29T12:06:45.858735Z"
    },
    "papermill": {
     "duration": 0.052709,
     "end_time": "2024-04-29T12:06:45.862005",
     "exception": false,
     "start_time": "2024-04-29T12:06:45.809296",
     "status": "completed"
    },
    "tags": []
   },
   "outputs": [
    {
     "name": "stdout",
     "output_type": "stream",
     "text": [
      "['id', 'term', 'grade', 'emp_length', 'issue_d', 'earliest_cr_line', 'last_pymnt_d']\n"
     ]
    }
   ],
   "source": [
    "print([column for column in df.columns if df[column].dtype == object])"
   ]
  },
  {
   "cell_type": "code",
   "execution_count": 31,
   "id": "3cd44c6b",
   "metadata": {
    "execution": {
     "iopub.execute_input": "2024-04-29T12:06:45.941644Z",
     "iopub.status.busy": "2024-04-29T12:06:45.941282Z",
     "iopub.status.idle": "2024-04-29T12:06:46.004093Z",
     "shell.execute_reply": "2024-04-29T12:06:46.002755Z"
    },
    "papermill": {
     "duration": 0.106206,
     "end_time": "2024-04-29T12:06:46.007162",
     "exception": false,
     "start_time": "2024-04-29T12:06:45.900956",
     "status": "completed"
    },
    "tags": []
   },
   "outputs": [],
   "source": [
    "df.drop(['id', 'issue_d', 'last_pymnt_d'], axis=1, inplace=True)"
   ]
  },
  {
   "cell_type": "code",
   "execution_count": 32,
   "id": "bad65f78",
   "metadata": {
    "execution": {
     "iopub.execute_input": "2024-04-29T12:06:46.092222Z",
     "iopub.status.busy": "2024-04-29T12:06:46.091363Z",
     "iopub.status.idle": "2024-04-29T12:06:46.167906Z",
     "shell.execute_reply": "2024-04-29T12:06:46.166501Z"
    },
    "papermill": {
     "duration": 0.119993,
     "end_time": "2024-04-29T12:06:46.170485",
     "exception": false,
     "start_time": "2024-04-29T12:06:46.050492",
     "status": "completed"
    },
    "tags": []
   },
   "outputs": [],
   "source": [
    "df.drop('earliest_cr_line',axis=1,inplace=True)"
   ]
  },
  {
   "cell_type": "code",
   "execution_count": 33,
   "id": "95aec8a9",
   "metadata": {
    "execution": {
     "iopub.execute_input": "2024-04-29T12:06:46.251198Z",
     "iopub.status.busy": "2024-04-29T12:06:46.250360Z",
     "iopub.status.idle": "2024-04-29T12:06:46.742380Z",
     "shell.execute_reply": "2024-04-29T12:06:46.741487Z"
    },
    "papermill": {
     "duration": 0.5342,
     "end_time": "2024-04-29T12:06:46.744754",
     "exception": false,
     "start_time": "2024-04-29T12:06:46.210554",
     "status": "completed"
    },
    "tags": []
   },
   "outputs": [
    {
     "name": "stdout",
     "output_type": "stream",
     "text": [
      "Before: [' 36 months' ' 60 months']\n",
      "After: ['36' '60']\n"
     ]
    }
   ],
   "source": [
    "# Term column\n",
    "print(\"Before:\",df['term'].unique())\n",
    "df['term'] = df['term'].map(lambda x: x.lstrip(' ').rstrip(' months'))\n",
    "print(\"After:\",df['term'].unique())\n",
    "df['term']= df['term'].astype('int64')"
   ]
  },
  {
   "cell_type": "code",
   "execution_count": 34,
   "id": "4bb80382",
   "metadata": {
    "execution": {
     "iopub.execute_input": "2024-04-29T12:06:46.824520Z",
     "iopub.status.busy": "2024-04-29T12:06:46.823715Z",
     "iopub.status.idle": "2024-04-29T12:06:46.896607Z",
     "shell.execute_reply": "2024-04-29T12:06:46.895762Z"
    },
    "papermill": {
     "duration": 0.114573,
     "end_time": "2024-04-29T12:06:46.898676",
     "exception": false,
     "start_time": "2024-04-29T12:06:46.784103",
     "status": "completed"
    },
    "tags": []
   },
   "outputs": [],
   "source": [
    "# Define a dictionary to map original values to transformed values\n",
    "mapping_dict = {\n",
    "    '< 1 year': '1',\n",
    "    '1 year': '1',\n",
    "    '2 years': '2',\n",
    "    '3 years': '3',\n",
    "    '4 years': '4',\n",
    "    '5 years': '5',\n",
    "    '6 years': '6',\n",
    "    '7 years': '7',\n",
    "    '8 years': '8',\n",
    "    '9 years': '9',\n",
    "    '10+ years': '10'\n",
    "}\n",
    "\n",
    "# Apply the mapping to the 'loan_status' column\n",
    "df['emp_length'] = df['emp_length'].map(mapping_dict)\n"
   ]
  },
  {
   "cell_type": "code",
   "execution_count": 35,
   "id": "b1e0c926",
   "metadata": {
    "execution": {
     "iopub.execute_input": "2024-04-29T12:06:46.979242Z",
     "iopub.status.busy": "2024-04-29T12:06:46.978879Z",
     "iopub.status.idle": "2024-04-29T12:06:47.077955Z",
     "shell.execute_reply": "2024-04-29T12:06:47.077010Z"
    },
    "papermill": {
     "duration": 0.141475,
     "end_time": "2024-04-29T12:06:47.080035",
     "exception": false,
     "start_time": "2024-04-29T12:06:46.938560",
     "status": "completed"
    },
    "tags": []
   },
   "outputs": [],
   "source": [
    "df['emp_length'] = df['emp_length'].astype(float)"
   ]
  },
  {
   "cell_type": "code",
   "execution_count": 36,
   "id": "571778c1",
   "metadata": {
    "execution": {
     "iopub.execute_input": "2024-04-29T12:06:47.164940Z",
     "iopub.status.busy": "2024-04-29T12:06:47.164571Z",
     "iopub.status.idle": "2024-04-29T12:06:47.215070Z",
     "shell.execute_reply": "2024-04-29T12:06:47.214065Z"
    },
    "papermill": {
     "duration": 0.096177,
     "end_time": "2024-04-29T12:06:47.217317",
     "exception": false,
     "start_time": "2024-04-29T12:06:47.121140",
     "status": "completed"
    },
    "tags": []
   },
   "outputs": [],
   "source": [
    "# Label Encoding\n",
    "df['grade']= df['grade'].map({'A':0,'B':1, 'C':2, 'D':3, 'E':4, 'F':5, 'G':6})\n"
   ]
  },
  {
   "cell_type": "code",
   "execution_count": 37,
   "id": "f6c6eeb6",
   "metadata": {
    "execution": {
     "iopub.execute_input": "2024-04-29T12:06:47.310135Z",
     "iopub.status.busy": "2024-04-29T12:06:47.309197Z",
     "iopub.status.idle": "2024-04-29T12:06:47.316797Z",
     "shell.execute_reply": "2024-04-29T12:06:47.315795Z"
    },
    "papermill": {
     "duration": 0.057438,
     "end_time": "2024-04-29T12:06:47.318963",
     "exception": false,
     "start_time": "2024-04-29T12:06:47.261525",
     "status": "completed"
    },
    "tags": []
   },
   "outputs": [
    {
     "name": "stdout",
     "output_type": "stream",
     "text": [
      "[]\n"
     ]
    }
   ],
   "source": [
    "print([column for column in df.columns if df[column].dtype == object])"
   ]
  },
  {
   "cell_type": "code",
   "execution_count": 38,
   "id": "c652b576",
   "metadata": {
    "execution": {
     "iopub.execute_input": "2024-04-29T12:06:47.405338Z",
     "iopub.status.busy": "2024-04-29T12:06:47.404675Z",
     "iopub.status.idle": "2024-04-29T12:06:47.451620Z",
     "shell.execute_reply": "2024-04-29T12:06:47.450064Z"
    },
    "papermill": {
     "duration": 0.091961,
     "end_time": "2024-04-29T12:06:47.453842",
     "exception": false,
     "start_time": "2024-04-29T12:06:47.361881",
     "status": "completed"
    },
    "tags": []
   },
   "outputs": [
    {
     "name": "stdout",
     "output_type": "stream",
     "text": [
      "<class 'pandas.core.frame.DataFrame'>\n",
      "Index: 605374 entries, 0 to 1048541\n",
      "Data columns (total 40 columns):\n",
      " #   Column                               Non-Null Count   Dtype  \n",
      "---  ------                               --------------   -----  \n",
      " 0   loan_amnt                            605374 non-null  float64\n",
      " 1   funded_amnt                          605374 non-null  float64\n",
      " 2   term                                 605374 non-null  int64  \n",
      " 3   int_rate                             605374 non-null  float64\n",
      " 4   installment                          605374 non-null  float64\n",
      " 5   grade                                605374 non-null  int64  \n",
      " 6   emp_length                           605374 non-null  float64\n",
      " 7   annual_inc                           605374 non-null  float64\n",
      " 8   loan_status                          605374 non-null  int64  \n",
      " 9   dti                                  605374 non-null  float64\n",
      " 10  delinq_2yrs                          605374 non-null  float64\n",
      " 11  open_acc                             605374 non-null  float64\n",
      " 12  pub_rec                              605374 non-null  float64\n",
      " 13  fico_range_high                      605374 non-null  float64\n",
      " 14  fico_range_low                       605374 non-null  float64\n",
      " 15  revol_bal                            605374 non-null  float64\n",
      " 16  revol_util                           605374 non-null  float64\n",
      " 17  total_pymnt                          605374 non-null  float64\n",
      " 18  recoveries                           605374 non-null  float64\n",
      " 19  loan_length                          605374 non-null  float64\n",
      " 20  term_num                             605374 non-null  int32  \n",
      " 21  home_ownership_MORTGAGE              605374 non-null  uint8  \n",
      " 22  home_ownership_NONE                  605374 non-null  uint8  \n",
      " 23  home_ownership_OWN                   605374 non-null  uint8  \n",
      " 24  home_ownership_RENT                  605374 non-null  uint8  \n",
      " 25  verification_status_Source Verified  605374 non-null  uint8  \n",
      " 26  verification_status_Verified         605374 non-null  uint8  \n",
      " 27  purpose_credit_card                  605374 non-null  uint8  \n",
      " 28  purpose_debt_consolidation           605374 non-null  uint8  \n",
      " 29  purpose_educational                  605374 non-null  uint8  \n",
      " 30  purpose_home_improvement             605374 non-null  uint8  \n",
      " 31  purpose_house                        605374 non-null  uint8  \n",
      " 32  purpose_major_purchase               605374 non-null  uint8  \n",
      " 33  purpose_medical                      605374 non-null  uint8  \n",
      " 34  purpose_moving                       605374 non-null  uint8  \n",
      " 35  purpose_other                        605374 non-null  uint8  \n",
      " 36  purpose_renewable_energy             605374 non-null  uint8  \n",
      " 37  purpose_small_business               605374 non-null  uint8  \n",
      " 38  purpose_vacation                     605374 non-null  uint8  \n",
      " 39  purpose_wedding                      605374 non-null  uint8  \n",
      "dtypes: float64(17), int32(1), int64(3), uint8(19)\n",
      "memory usage: 110.3 MB\n"
     ]
    }
   ],
   "source": [
    "df.info()"
   ]
  },
  {
   "cell_type": "markdown",
   "id": "90fd7579",
   "metadata": {
    "papermill": {
     "duration": 0.039385,
     "end_time": "2024-04-29T12:06:47.534415",
     "exception": false,
     "start_time": "2024-04-29T12:06:47.495030",
     "status": "completed"
    },
    "tags": []
   },
   "source": [
    "# Step 1"
   ]
  },
  {
   "cell_type": "markdown",
   "id": "5f7f6bd0",
   "metadata": {
    "papermill": {
     "duration": 0.040308,
     "end_time": "2024-04-29T12:06:47.614605",
     "exception": false,
     "start_time": "2024-04-29T12:06:47.574297",
     "status": "completed"
    },
    "tags": []
   },
   "source": [
    "# Investment Strategy Based on Return Maximizing"
   ]
  },
  {
   "cell_type": "markdown",
   "id": "0337da4d",
   "metadata": {
    "papermill": {
     "duration": 0.039874,
     "end_time": "2024-04-29T12:06:47.693971",
     "exception": false,
     "start_time": "2024-04-29T12:06:47.654097",
     "status": "completed"
    },
    "tags": []
   },
   "source": [
    "1. **Data Observation**: We began by thoroughly examining the dataset's columns to understand the available return metrics and their implications.\n",
    "\n",
    "2. **Return Metrics Identification**: Through our analysis, we identified various return metrics, including optimistic, intermediate, and pessimistic returns.\n",
    "\n",
    "3. **Objective Setting**: Our goal was to select the most favorable return metric while avoiding overly conservative estimates to maximize returns effectively.\n",
    "\n",
    "4. **Evaluation Process**: Each return metric underwent meticulous evaluation based on historical performance and associated risk factors.\n",
    "\n",
    "5. **Optimal Return Selection**: The optimal return metric consistently demonstrated the highest returns across historical data, making it a prime candidate for portfolio optimization.\n",
    "\n",
    "6. **Combination Strategy**: We opted to combine the optimal return with intermediate returns to strike a balance between maximizing returns and managing risk.\n",
    "\n",
    "7. **Risk Mitigation**: By avoiding overly pessimistic return metrics, we aimed to capture potential upside while still maintaining a prudent approach to risk management.\n",
    "\n",
    "8. **Evidence-based Decision**: Our decision-making process was grounded in empirical evidence from historical loan performance data, ensuring a robust and data-driven approach."
   ]
  },
  {
   "cell_type": "code",
   "execution_count": 39,
   "id": "d4d95a8d",
   "metadata": {
    "execution": {
     "iopub.execute_input": "2024-04-29T12:06:47.775388Z",
     "iopub.status.busy": "2024-04-29T12:06:47.774988Z",
     "iopub.status.idle": "2024-04-29T12:06:47.806860Z",
     "shell.execute_reply": "2024-04-29T12:06:47.805995Z"
    },
    "papermill": {
     "duration": 0.075281,
     "end_time": "2024-04-29T12:06:47.809092",
     "exception": false,
     "start_time": "2024-04-29T12:06:47.733811",
     "status": "completed"
    },
    "tags": []
   },
   "outputs": [],
   "source": [
    "# Dividing our dataset into independent and dependent features\n",
    "X1=df.drop('loan_status',axis=1)"
   ]
  },
  {
   "cell_type": "code",
   "execution_count": 40,
   "id": "300f3643",
   "metadata": {
    "execution": {
     "iopub.execute_input": "2024-04-29T12:06:47.890183Z",
     "iopub.status.busy": "2024-04-29T12:06:47.889808Z",
     "iopub.status.idle": "2024-04-29T12:06:48.073755Z",
     "shell.execute_reply": "2024-04-29T12:06:48.072902Z"
    },
    "papermill": {
     "duration": 0.227313,
     "end_time": "2024-04-29T12:06:48.076234",
     "exception": false,
     "start_time": "2024-04-29T12:06:47.848921",
     "status": "completed"
    },
    "tags": []
   },
   "outputs": [],
   "source": [
    "# Splitting our dataset between training and testing set\n",
    "X_train, X_test, y_train, y_test = train_test_split(X1, y1, test_size=0.25,random_state=100)"
   ]
  },
  {
   "cell_type": "code",
   "execution_count": 41,
   "id": "2cf31eaa",
   "metadata": {
    "execution": {
     "iopub.execute_input": "2024-04-29T12:06:48.161805Z",
     "iopub.status.busy": "2024-04-29T12:06:48.161123Z",
     "iopub.status.idle": "2024-04-29T12:06:48.408762Z",
     "shell.execute_reply": "2024-04-29T12:06:48.407947Z"
    },
    "papermill": {
     "duration": 0.292683,
     "end_time": "2024-04-29T12:06:48.411160",
     "exception": false,
     "start_time": "2024-04-29T12:06:48.118477",
     "status": "completed"
    },
    "tags": []
   },
   "outputs": [],
   "source": [
    "# MinMax Scaler\n",
    "scaler = MinMaxScaler()\n",
    "X_train = scaler.fit_transform(X_train)\n",
    "X_test = scaler.transform(X_test)"
   ]
  },
  {
   "cell_type": "code",
   "execution_count": 42,
   "id": "684fc365",
   "metadata": {
    "execution": {
     "iopub.execute_input": "2024-04-29T12:06:48.493189Z",
     "iopub.status.busy": "2024-04-29T12:06:48.492854Z",
     "iopub.status.idle": "2024-04-29T12:09:04.505393Z",
     "shell.execute_reply": "2024-04-29T12:09:04.504489Z"
    },
    "papermill": {
     "duration": 136.097085,
     "end_time": "2024-04-29T12:09:04.548803",
     "exception": false,
     "start_time": "2024-04-29T12:06:48.451718",
     "status": "completed"
    },
    "tags": []
   },
   "outputs": [
    {
     "data": {
      "text/html": [
       "<style>#sk-container-id-1 {\n",
       "  /* Definition of color scheme common for light and dark mode */\n",
       "  --sklearn-color-text: black;\n",
       "  --sklearn-color-line: gray;\n",
       "  /* Definition of color scheme for unfitted estimators */\n",
       "  --sklearn-color-unfitted-level-0: #fff5e6;\n",
       "  --sklearn-color-unfitted-level-1: #f6e4d2;\n",
       "  --sklearn-color-unfitted-level-2: #ffe0b3;\n",
       "  --sklearn-color-unfitted-level-3: chocolate;\n",
       "  /* Definition of color scheme for fitted estimators */\n",
       "  --sklearn-color-fitted-level-0: #f0f8ff;\n",
       "  --sklearn-color-fitted-level-1: #d4ebff;\n",
       "  --sklearn-color-fitted-level-2: #b3dbfd;\n",
       "  --sklearn-color-fitted-level-3: cornflowerblue;\n",
       "\n",
       "  /* Specific color for light theme */\n",
       "  --sklearn-color-text-on-default-background: var(--sg-text-color, var(--theme-code-foreground, var(--jp-content-font-color1, black)));\n",
       "  --sklearn-color-background: var(--sg-background-color, var(--theme-background, var(--jp-layout-color0, white)));\n",
       "  --sklearn-color-border-box: var(--sg-text-color, var(--theme-code-foreground, var(--jp-content-font-color1, black)));\n",
       "  --sklearn-color-icon: #696969;\n",
       "\n",
       "  @media (prefers-color-scheme: dark) {\n",
       "    /* Redefinition of color scheme for dark theme */\n",
       "    --sklearn-color-text-on-default-background: var(--sg-text-color, var(--theme-code-foreground, var(--jp-content-font-color1, white)));\n",
       "    --sklearn-color-background: var(--sg-background-color, var(--theme-background, var(--jp-layout-color0, #111)));\n",
       "    --sklearn-color-border-box: var(--sg-text-color, var(--theme-code-foreground, var(--jp-content-font-color1, white)));\n",
       "    --sklearn-color-icon: #878787;\n",
       "  }\n",
       "}\n",
       "\n",
       "#sk-container-id-1 {\n",
       "  color: var(--sklearn-color-text);\n",
       "}\n",
       "\n",
       "#sk-container-id-1 pre {\n",
       "  padding: 0;\n",
       "}\n",
       "\n",
       "#sk-container-id-1 input.sk-hidden--visually {\n",
       "  border: 0;\n",
       "  clip: rect(1px 1px 1px 1px);\n",
       "  clip: rect(1px, 1px, 1px, 1px);\n",
       "  height: 1px;\n",
       "  margin: -1px;\n",
       "  overflow: hidden;\n",
       "  padding: 0;\n",
       "  position: absolute;\n",
       "  width: 1px;\n",
       "}\n",
       "\n",
       "#sk-container-id-1 div.sk-dashed-wrapped {\n",
       "  border: 1px dashed var(--sklearn-color-line);\n",
       "  margin: 0 0.4em 0.5em 0.4em;\n",
       "  box-sizing: border-box;\n",
       "  padding-bottom: 0.4em;\n",
       "  background-color: var(--sklearn-color-background);\n",
       "}\n",
       "\n",
       "#sk-container-id-1 div.sk-container {\n",
       "  /* jupyter's `normalize.less` sets `[hidden] { display: none; }`\n",
       "     but bootstrap.min.css set `[hidden] { display: none !important; }`\n",
       "     so we also need the `!important` here to be able to override the\n",
       "     default hidden behavior on the sphinx rendered scikit-learn.org.\n",
       "     See: https://github.com/scikit-learn/scikit-learn/issues/21755 */\n",
       "  display: inline-block !important;\n",
       "  position: relative;\n",
       "}\n",
       "\n",
       "#sk-container-id-1 div.sk-text-repr-fallback {\n",
       "  display: none;\n",
       "}\n",
       "\n",
       "div.sk-parallel-item,\n",
       "div.sk-serial,\n",
       "div.sk-item {\n",
       "  /* draw centered vertical line to link estimators */\n",
       "  background-image: linear-gradient(var(--sklearn-color-text-on-default-background), var(--sklearn-color-text-on-default-background));\n",
       "  background-size: 2px 100%;\n",
       "  background-repeat: no-repeat;\n",
       "  background-position: center center;\n",
       "}\n",
       "\n",
       "/* Parallel-specific style estimator block */\n",
       "\n",
       "#sk-container-id-1 div.sk-parallel-item::after {\n",
       "  content: \"\";\n",
       "  width: 100%;\n",
       "  border-bottom: 2px solid var(--sklearn-color-text-on-default-background);\n",
       "  flex-grow: 1;\n",
       "}\n",
       "\n",
       "#sk-container-id-1 div.sk-parallel {\n",
       "  display: flex;\n",
       "  align-items: stretch;\n",
       "  justify-content: center;\n",
       "  background-color: var(--sklearn-color-background);\n",
       "  position: relative;\n",
       "}\n",
       "\n",
       "#sk-container-id-1 div.sk-parallel-item {\n",
       "  display: flex;\n",
       "  flex-direction: column;\n",
       "}\n",
       "\n",
       "#sk-container-id-1 div.sk-parallel-item:first-child::after {\n",
       "  align-self: flex-end;\n",
       "  width: 50%;\n",
       "}\n",
       "\n",
       "#sk-container-id-1 div.sk-parallel-item:last-child::after {\n",
       "  align-self: flex-start;\n",
       "  width: 50%;\n",
       "}\n",
       "\n",
       "#sk-container-id-1 div.sk-parallel-item:only-child::after {\n",
       "  width: 0;\n",
       "}\n",
       "\n",
       "/* Serial-specific style estimator block */\n",
       "\n",
       "#sk-container-id-1 div.sk-serial {\n",
       "  display: flex;\n",
       "  flex-direction: column;\n",
       "  align-items: center;\n",
       "  background-color: var(--sklearn-color-background);\n",
       "  padding-right: 1em;\n",
       "  padding-left: 1em;\n",
       "}\n",
       "\n",
       "\n",
       "/* Toggleable style: style used for estimator/Pipeline/ColumnTransformer box that is\n",
       "clickable and can be expanded/collapsed.\n",
       "- Pipeline and ColumnTransformer use this feature and define the default style\n",
       "- Estimators will overwrite some part of the style using the `sk-estimator` class\n",
       "*/\n",
       "\n",
       "/* Pipeline and ColumnTransformer style (default) */\n",
       "\n",
       "#sk-container-id-1 div.sk-toggleable {\n",
       "  /* Default theme specific background. It is overwritten whether we have a\n",
       "  specific estimator or a Pipeline/ColumnTransformer */\n",
       "  background-color: var(--sklearn-color-background);\n",
       "}\n",
       "\n",
       "/* Toggleable label */\n",
       "#sk-container-id-1 label.sk-toggleable__label {\n",
       "  cursor: pointer;\n",
       "  display: block;\n",
       "  width: 100%;\n",
       "  margin-bottom: 0;\n",
       "  padding: 0.5em;\n",
       "  box-sizing: border-box;\n",
       "  text-align: center;\n",
       "}\n",
       "\n",
       "#sk-container-id-1 label.sk-toggleable__label-arrow:before {\n",
       "  /* Arrow on the left of the label */\n",
       "  content: \"▸\";\n",
       "  float: left;\n",
       "  margin-right: 0.25em;\n",
       "  color: var(--sklearn-color-icon);\n",
       "}\n",
       "\n",
       "#sk-container-id-1 label.sk-toggleable__label-arrow:hover:before {\n",
       "  color: var(--sklearn-color-text);\n",
       "}\n",
       "\n",
       "/* Toggleable content - dropdown */\n",
       "\n",
       "#sk-container-id-1 div.sk-toggleable__content {\n",
       "  max-height: 0;\n",
       "  max-width: 0;\n",
       "  overflow: hidden;\n",
       "  text-align: left;\n",
       "  /* unfitted */\n",
       "  background-color: var(--sklearn-color-unfitted-level-0);\n",
       "}\n",
       "\n",
       "#sk-container-id-1 div.sk-toggleable__content.fitted {\n",
       "  /* fitted */\n",
       "  background-color: var(--sklearn-color-fitted-level-0);\n",
       "}\n",
       "\n",
       "#sk-container-id-1 div.sk-toggleable__content pre {\n",
       "  margin: 0.2em;\n",
       "  border-radius: 0.25em;\n",
       "  color: var(--sklearn-color-text);\n",
       "  /* unfitted */\n",
       "  background-color: var(--sklearn-color-unfitted-level-0);\n",
       "}\n",
       "\n",
       "#sk-container-id-1 div.sk-toggleable__content.fitted pre {\n",
       "  /* unfitted */\n",
       "  background-color: var(--sklearn-color-fitted-level-0);\n",
       "}\n",
       "\n",
       "#sk-container-id-1 input.sk-toggleable__control:checked~div.sk-toggleable__content {\n",
       "  /* Expand drop-down */\n",
       "  max-height: 200px;\n",
       "  max-width: 100%;\n",
       "  overflow: auto;\n",
       "}\n",
       "\n",
       "#sk-container-id-1 input.sk-toggleable__control:checked~label.sk-toggleable__label-arrow:before {\n",
       "  content: \"▾\";\n",
       "}\n",
       "\n",
       "/* Pipeline/ColumnTransformer-specific style */\n",
       "\n",
       "#sk-container-id-1 div.sk-label input.sk-toggleable__control:checked~label.sk-toggleable__label {\n",
       "  color: var(--sklearn-color-text);\n",
       "  background-color: var(--sklearn-color-unfitted-level-2);\n",
       "}\n",
       "\n",
       "#sk-container-id-1 div.sk-label.fitted input.sk-toggleable__control:checked~label.sk-toggleable__label {\n",
       "  background-color: var(--sklearn-color-fitted-level-2);\n",
       "}\n",
       "\n",
       "/* Estimator-specific style */\n",
       "\n",
       "/* Colorize estimator box */\n",
       "#sk-container-id-1 div.sk-estimator input.sk-toggleable__control:checked~label.sk-toggleable__label {\n",
       "  /* unfitted */\n",
       "  background-color: var(--sklearn-color-unfitted-level-2);\n",
       "}\n",
       "\n",
       "#sk-container-id-1 div.sk-estimator.fitted input.sk-toggleable__control:checked~label.sk-toggleable__label {\n",
       "  /* fitted */\n",
       "  background-color: var(--sklearn-color-fitted-level-2);\n",
       "}\n",
       "\n",
       "#sk-container-id-1 div.sk-label label.sk-toggleable__label,\n",
       "#sk-container-id-1 div.sk-label label {\n",
       "  /* The background is the default theme color */\n",
       "  color: var(--sklearn-color-text-on-default-background);\n",
       "}\n",
       "\n",
       "/* On hover, darken the color of the background */\n",
       "#sk-container-id-1 div.sk-label:hover label.sk-toggleable__label {\n",
       "  color: var(--sklearn-color-text);\n",
       "  background-color: var(--sklearn-color-unfitted-level-2);\n",
       "}\n",
       "\n",
       "/* Label box, darken color on hover, fitted */\n",
       "#sk-container-id-1 div.sk-label.fitted:hover label.sk-toggleable__label.fitted {\n",
       "  color: var(--sklearn-color-text);\n",
       "  background-color: var(--sklearn-color-fitted-level-2);\n",
       "}\n",
       "\n",
       "/* Estimator label */\n",
       "\n",
       "#sk-container-id-1 div.sk-label label {\n",
       "  font-family: monospace;\n",
       "  font-weight: bold;\n",
       "  display: inline-block;\n",
       "  line-height: 1.2em;\n",
       "}\n",
       "\n",
       "#sk-container-id-1 div.sk-label-container {\n",
       "  text-align: center;\n",
       "}\n",
       "\n",
       "/* Estimator-specific */\n",
       "#sk-container-id-1 div.sk-estimator {\n",
       "  font-family: monospace;\n",
       "  border: 1px dotted var(--sklearn-color-border-box);\n",
       "  border-radius: 0.25em;\n",
       "  box-sizing: border-box;\n",
       "  margin-bottom: 0.5em;\n",
       "  /* unfitted */\n",
       "  background-color: var(--sklearn-color-unfitted-level-0);\n",
       "}\n",
       "\n",
       "#sk-container-id-1 div.sk-estimator.fitted {\n",
       "  /* fitted */\n",
       "  background-color: var(--sklearn-color-fitted-level-0);\n",
       "}\n",
       "\n",
       "/* on hover */\n",
       "#sk-container-id-1 div.sk-estimator:hover {\n",
       "  /* unfitted */\n",
       "  background-color: var(--sklearn-color-unfitted-level-2);\n",
       "}\n",
       "\n",
       "#sk-container-id-1 div.sk-estimator.fitted:hover {\n",
       "  /* fitted */\n",
       "  background-color: var(--sklearn-color-fitted-level-2);\n",
       "}\n",
       "\n",
       "/* Specification for estimator info (e.g. \"i\" and \"?\") */\n",
       "\n",
       "/* Common style for \"i\" and \"?\" */\n",
       "\n",
       ".sk-estimator-doc-link,\n",
       "a:link.sk-estimator-doc-link,\n",
       "a:visited.sk-estimator-doc-link {\n",
       "  float: right;\n",
       "  font-size: smaller;\n",
       "  line-height: 1em;\n",
       "  font-family: monospace;\n",
       "  background-color: var(--sklearn-color-background);\n",
       "  border-radius: 1em;\n",
       "  height: 1em;\n",
       "  width: 1em;\n",
       "  text-decoration: none !important;\n",
       "  margin-left: 1ex;\n",
       "  /* unfitted */\n",
       "  border: var(--sklearn-color-unfitted-level-1) 1pt solid;\n",
       "  color: var(--sklearn-color-unfitted-level-1);\n",
       "}\n",
       "\n",
       ".sk-estimator-doc-link.fitted,\n",
       "a:link.sk-estimator-doc-link.fitted,\n",
       "a:visited.sk-estimator-doc-link.fitted {\n",
       "  /* fitted */\n",
       "  border: var(--sklearn-color-fitted-level-1) 1pt solid;\n",
       "  color: var(--sklearn-color-fitted-level-1);\n",
       "}\n",
       "\n",
       "/* On hover */\n",
       "div.sk-estimator:hover .sk-estimator-doc-link:hover,\n",
       ".sk-estimator-doc-link:hover,\n",
       "div.sk-label-container:hover .sk-estimator-doc-link:hover,\n",
       ".sk-estimator-doc-link:hover {\n",
       "  /* unfitted */\n",
       "  background-color: var(--sklearn-color-unfitted-level-3);\n",
       "  color: var(--sklearn-color-background);\n",
       "  text-decoration: none;\n",
       "}\n",
       "\n",
       "div.sk-estimator.fitted:hover .sk-estimator-doc-link.fitted:hover,\n",
       ".sk-estimator-doc-link.fitted:hover,\n",
       "div.sk-label-container:hover .sk-estimator-doc-link.fitted:hover,\n",
       ".sk-estimator-doc-link.fitted:hover {\n",
       "  /* fitted */\n",
       "  background-color: var(--sklearn-color-fitted-level-3);\n",
       "  color: var(--sklearn-color-background);\n",
       "  text-decoration: none;\n",
       "}\n",
       "\n",
       "/* Span, style for the box shown on hovering the info icon */\n",
       ".sk-estimator-doc-link span {\n",
       "  display: none;\n",
       "  z-index: 9999;\n",
       "  position: relative;\n",
       "  font-weight: normal;\n",
       "  right: .2ex;\n",
       "  padding: .5ex;\n",
       "  margin: .5ex;\n",
       "  width: min-content;\n",
       "  min-width: 20ex;\n",
       "  max-width: 50ex;\n",
       "  color: var(--sklearn-color-text);\n",
       "  box-shadow: 2pt 2pt 4pt #999;\n",
       "  /* unfitted */\n",
       "  background: var(--sklearn-color-unfitted-level-0);\n",
       "  border: .5pt solid var(--sklearn-color-unfitted-level-3);\n",
       "}\n",
       "\n",
       ".sk-estimator-doc-link.fitted span {\n",
       "  /* fitted */\n",
       "  background: var(--sklearn-color-fitted-level-0);\n",
       "  border: var(--sklearn-color-fitted-level-3);\n",
       "}\n",
       "\n",
       ".sk-estimator-doc-link:hover span {\n",
       "  display: block;\n",
       "}\n",
       "\n",
       "/* \"?\"-specific style due to the `<a>` HTML tag */\n",
       "\n",
       "#sk-container-id-1 a.estimator_doc_link {\n",
       "  float: right;\n",
       "  font-size: 1rem;\n",
       "  line-height: 1em;\n",
       "  font-family: monospace;\n",
       "  background-color: var(--sklearn-color-background);\n",
       "  border-radius: 1rem;\n",
       "  height: 1rem;\n",
       "  width: 1rem;\n",
       "  text-decoration: none;\n",
       "  /* unfitted */\n",
       "  color: var(--sklearn-color-unfitted-level-1);\n",
       "  border: var(--sklearn-color-unfitted-level-1) 1pt solid;\n",
       "}\n",
       "\n",
       "#sk-container-id-1 a.estimator_doc_link.fitted {\n",
       "  /* fitted */\n",
       "  border: var(--sklearn-color-fitted-level-1) 1pt solid;\n",
       "  color: var(--sklearn-color-fitted-level-1);\n",
       "}\n",
       "\n",
       "/* On hover */\n",
       "#sk-container-id-1 a.estimator_doc_link:hover {\n",
       "  /* unfitted */\n",
       "  background-color: var(--sklearn-color-unfitted-level-3);\n",
       "  color: var(--sklearn-color-background);\n",
       "  text-decoration: none;\n",
       "}\n",
       "\n",
       "#sk-container-id-1 a.estimator_doc_link.fitted:hover {\n",
       "  /* fitted */\n",
       "  background-color: var(--sklearn-color-fitted-level-3);\n",
       "}\n",
       "</style><div id=\"sk-container-id-1\" class=\"sk-top-container\"><div class=\"sk-text-repr-fallback\"><pre>RandomForestClassifier()</pre><b>In a Jupyter environment, please rerun this cell to show the HTML representation or trust the notebook. <br />On GitHub, the HTML representation is unable to render, please try loading this page with nbviewer.org.</b></div><div class=\"sk-container\" hidden><div class=\"sk-item\"><div class=\"sk-estimator fitted sk-toggleable\"><input class=\"sk-toggleable__control sk-hidden--visually\" id=\"sk-estimator-id-1\" type=\"checkbox\" checked><label for=\"sk-estimator-id-1\" class=\"sk-toggleable__label fitted sk-toggleable__label-arrow fitted\">&nbsp;&nbsp;RandomForestClassifier<a class=\"sk-estimator-doc-link fitted\" rel=\"noreferrer\" target=\"_blank\" href=\"https://scikit-learn.org/1.4/modules/generated/sklearn.ensemble.RandomForestClassifier.html\">?<span>Documentation for RandomForestClassifier</span></a><span class=\"sk-estimator-doc-link fitted\">i<span>Fitted</span></span></label><div class=\"sk-toggleable__content fitted\"><pre>RandomForestClassifier()</pre></div> </div></div></div></div>"
      ],
      "text/plain": [
       "RandomForestClassifier()"
      ]
     },
     "execution_count": 42,
     "metadata": {},
     "output_type": "execute_result"
    }
   ],
   "source": [
    "model1=RandomForestClassifier()\n",
    "model1.fit(X_train,y_train)"
   ]
  },
  {
   "cell_type": "code",
   "execution_count": 43,
   "id": "c00f9514",
   "metadata": {
    "execution": {
     "iopub.execute_input": "2024-04-29T12:09:04.629563Z",
     "iopub.status.busy": "2024-04-29T12:09:04.629179Z",
     "iopub.status.idle": "2024-04-29T12:09:08.321417Z",
     "shell.execute_reply": "2024-04-29T12:09:08.320328Z"
    },
    "papermill": {
     "duration": 3.735772,
     "end_time": "2024-04-29T12:09:08.323986",
     "exception": false,
     "start_time": "2024-04-29T12:09:04.588214",
     "status": "completed"
    },
    "tags": []
   },
   "outputs": [
    {
     "name": "stdout",
     "output_type": "stream",
     "text": [
      "Confusion Matrix: \n",
      " [[71406  4330]\n",
      " [ 1585 74023]]\n",
      "\n",
      "\n",
      "Accuracy Score: \n",
      " 0.9609168516756528\n",
      "\n",
      "\n",
      "Classification Report: \n",
      "               precision    recall  f1-score   support\n",
      "\n",
      "           0       0.98      0.94      0.96     75736\n",
      "           1       0.94      0.98      0.96     75608\n",
      "\n",
      "    accuracy                           0.96    151344\n",
      "   macro avg       0.96      0.96      0.96    151344\n",
      "weighted avg       0.96      0.96      0.96    151344\n",
      "\n"
     ]
    }
   ],
   "source": [
    "y_pred=model1.predict(X_test)\n",
    "print(\"Confusion Matrix: \\n\",confusion_matrix(y_test,y_pred))\n",
    "print('\\n')\n",
    "print(\"Accuracy Score: \\n\",accuracy_score(y_test,y_pred))\n",
    "print('\\n')\n",
    "print(\"Classification Report: \\n\",classification_report(y_test,y_pred))"
   ]
  },
  {
   "cell_type": "code",
   "execution_count": 44,
   "id": "3d3c96f0",
   "metadata": {
    "execution": {
     "iopub.execute_input": "2024-04-29T12:09:08.407125Z",
     "iopub.status.busy": "2024-04-29T12:09:08.406763Z",
     "iopub.status.idle": "2024-04-29T12:09:08.852358Z",
     "shell.execute_reply": "2024-04-29T12:09:08.851213Z"
    },
    "papermill": {
     "duration": 0.489334,
     "end_time": "2024-04-29T12:09:08.854392",
     "exception": false,
     "start_time": "2024-04-29T12:09:08.365058",
     "status": "completed"
    },
    "tags": []
   },
   "outputs": [
    {
     "name": "stdout",
     "output_type": "stream",
     "text": [
      "The number of classes before fit Counter({1: 227079, 0: 226951})\n",
      "The number of classes after fit Counter({0: 227079, 1: 227079})\n"
     ]
    }
   ],
   "source": [
    "from imblearn.over_sampling import RandomOverSampler\n",
    "os=RandomOverSampler()\n",
    "X_train_os,y_train_os=os.fit_resample(X_train,y_train)\n",
    "print(\"The number of classes before fit {}\".format(Counter(y_train)))\n",
    "print(\"The number of classes after fit {}\".format(Counter(y_train_os)))"
   ]
  },
  {
   "cell_type": "code",
   "execution_count": 45,
   "id": "5b8bcb77",
   "metadata": {
    "execution": {
     "iopub.execute_input": "2024-04-29T12:09:08.937881Z",
     "iopub.status.busy": "2024-04-29T12:09:08.937284Z",
     "iopub.status.idle": "2024-04-29T12:09:08.944304Z",
     "shell.execute_reply": "2024-04-29T12:09:08.943416Z"
    },
    "papermill": {
     "duration": 0.049948,
     "end_time": "2024-04-29T12:09:08.946323",
     "exception": false,
     "start_time": "2024-04-29T12:09:08.896375",
     "status": "completed"
    },
    "tags": []
   },
   "outputs": [],
   "source": [
    "# Define the build_model function for Keras Tuner\n",
    "def build_model(hp):\n",
    "    model = keras.Sequential()\n",
    "    for i in range(hp.Int('num_layers', 2, 20)):\n",
    "        model.add(layers.Dense(units=hp.Int('units_' + str(i), min_value=32, max_value=512, step=32),\n",
    "                               activation='relu'))\n",
    "    model.add(layers.Dense(1, activation='sigmoid'))\n",
    "    model.compile(\n",
    "        optimizer=keras.optimizers.Adam(hp.Choice('learning_rate', [1e-2, 1e-3, 1e-4])),\n",
    "        loss='binary_crossentropy',\n",
    "        metrics=['accuracy'])\n",
    "    return model"
   ]
  },
  {
   "cell_type": "code",
   "execution_count": 46,
   "id": "3645b812",
   "metadata": {
    "execution": {
     "iopub.execute_input": "2024-04-29T12:09:09.027996Z",
     "iopub.status.busy": "2024-04-29T12:09:09.027098Z",
     "iopub.status.idle": "2024-04-29T12:51:15.709668Z",
     "shell.execute_reply": "2024-04-29T12:51:15.708802Z"
    },
    "papermill": {
     "duration": 2527.652373,
     "end_time": "2024-04-29T12:51:16.638621",
     "exception": false,
     "start_time": "2024-04-29T12:09:08.986248",
     "status": "completed"
    },
    "tags": []
   },
   "outputs": [
    {
     "name": "stdout",
     "output_type": "stream",
     "text": [
      "Trial 3 Complete [00h 11m 12s]\n",
      "val_accuracy: 0.9679703116416931\n",
      "\n",
      "Best val_accuracy So Far: 0.9679703116416931\n",
      "Total elapsed time: 00h 42m 06s\n"
     ]
    }
   ],
   "source": [
    "tuner = RandomSearch(build_model, objective='val_accuracy', max_trials=3, executions_per_trial=2)\n",
    "tuner.search(X_train_os, y_train_os, epochs=10, validation_data=(X_test, y_test))\n",
    "best_hps = tuner.get_best_hyperparameters(num_trials=1)[0]\n",
    "             # Storing my best hyperparameters in the best_hps variable."
   ]
  },
  {
   "cell_type": "code",
   "execution_count": 47,
   "id": "373fd473",
   "metadata": {
    "execution": {
     "iopub.execute_input": "2024-04-29T12:51:16.720864Z",
     "iopub.status.busy": "2024-04-29T12:51:16.720482Z",
     "iopub.status.idle": "2024-04-29T12:51:16.729641Z",
     "shell.execute_reply": "2024-04-29T12:51:16.728721Z"
    },
    "papermill": {
     "duration": 0.052131,
     "end_time": "2024-04-29T12:51:16.731589",
     "exception": false,
     "start_time": "2024-04-29T12:51:16.679458",
     "status": "completed"
    },
    "tags": []
   },
   "outputs": [],
   "source": [
    "# Define the create_model function to build a Keras model with the optimal hyperparameters\n",
    "def create_model(num_layers, num_nodes, activation):\n",
    "    model = keras.Sequential()\n",
    "    for i in range(num_layers):\n",
    "        if i==0:                                                           # checks whether the current layer is the first layer of the model.\n",
    "            model.add(layers.Dense(num_nodes[i], input_dim=X_train.shape[1]))\n",
    "            model.add(layers.Activation(activation))\n",
    "            model.add(layers.Dropout(0.3))\n",
    "        else:\n",
    "            model.add(layers.Dense(num_nodes[i]))\n",
    "            model.add(layers.Activation(activation))\n",
    "            model.add(layers.Dropout(0.3))       \n",
    "    model.add(layers.Dense(units=1, kernel_initializer='glorot_uniform', activation='sigmoid'))\n",
    "    model.compile(optimizer='adam', loss='binary_crossentropy', metrics=['accuracy'])\n",
    "    return model\n",
    "\n",
    "# Generate a list of integers for the number of nodes in each layer\n",
    "num_nodes = [best_hps.get('units_' + str(i)) for i in range(best_hps.get('num_layers'))]\n",
    "\n",
    "model = KerasClassifier(\n",
    "    build_fn=create_model,\n",
    "    num_layers=best_hps.get('num_layers'),\n",
    "    num_nodes=num_nodes,\n",
    "    activation='relu'\n",
    ")"
   ]
  },
  {
   "cell_type": "code",
   "execution_count": 48,
   "id": "946f29b0",
   "metadata": {
    "execution": {
     "iopub.execute_input": "2024-04-29T12:51:16.812202Z",
     "iopub.status.busy": "2024-04-29T12:51:16.811894Z",
     "iopub.status.idle": "2024-04-29T13:03:37.058028Z",
     "shell.execute_reply": "2024-04-29T13:03:37.057014Z"
    },
    "papermill": {
     "duration": 741.24177,
     "end_time": "2024-04-29T13:03:38.013066",
     "exception": false,
     "start_time": "2024-04-29T12:51:16.771296",
     "status": "completed"
    },
    "tags": []
   },
   "outputs": [
    {
     "name": "stdout",
     "output_type": "stream",
     "text": [
      "Epoch 1/20\n",
      "\u001b[1m14189/14189\u001b[0m \u001b[32m━━━━━━━━━━━━━━━━━━━━\u001b[0m\u001b[37m\u001b[0m \u001b[1m53s\u001b[0m 3ms/step - accuracy: 0.8952 - loss: 0.2361 - val_accuracy: 0.9589 - val_loss: 0.1099\n",
      "Epoch 2/20\n",
      "\u001b[1m14189/14189\u001b[0m \u001b[32m━━━━━━━━━━━━━━━━━━━━\u001b[0m\u001b[37m\u001b[0m \u001b[1m36s\u001b[0m 3ms/step - accuracy: 0.9492 - loss: 0.1304 - val_accuracy: 0.9595 - val_loss: 0.1129\n",
      "Epoch 3/20\n",
      "\u001b[1m14189/14189\u001b[0m \u001b[32m━━━━━━━━━━━━━━━━━━━━\u001b[0m\u001b[37m\u001b[0m \u001b[1m36s\u001b[0m 2ms/step - accuracy: 0.9526 - loss: 0.1216 - val_accuracy: 0.9598 - val_loss: 0.1011\n",
      "Epoch 4/20\n",
      "\u001b[1m14189/14189\u001b[0m \u001b[32m━━━━━━━━━━━━━━━━━━━━\u001b[0m\u001b[37m\u001b[0m \u001b[1m36s\u001b[0m 3ms/step - accuracy: 0.9543 - loss: 0.1160 - val_accuracy: 0.9598 - val_loss: 0.0988\n",
      "Epoch 5/20\n",
      "\u001b[1m14189/14189\u001b[0m \u001b[32m━━━━━━━━━━━━━━━━━━━━\u001b[0m\u001b[37m\u001b[0m \u001b[1m36s\u001b[0m 3ms/step - accuracy: 0.9564 - loss: 0.1127 - val_accuracy: 0.9591 - val_loss: 0.1031\n",
      "Epoch 6/20\n",
      "\u001b[1m14189/14189\u001b[0m \u001b[32m━━━━━━━━━━━━━━━━━━━━\u001b[0m\u001b[37m\u001b[0m \u001b[1m36s\u001b[0m 3ms/step - accuracy: 0.9562 - loss: 0.1117 - val_accuracy: 0.9585 - val_loss: 0.1063\n",
      "Epoch 7/20\n",
      "\u001b[1m14189/14189\u001b[0m \u001b[32m━━━━━━━━━━━━━━━━━━━━\u001b[0m\u001b[37m\u001b[0m \u001b[1m36s\u001b[0m 3ms/step - accuracy: 0.9565 - loss: 0.1108 - val_accuracy: 0.9607 - val_loss: 0.0974\n",
      "Epoch 8/20\n",
      "\u001b[1m14189/14189\u001b[0m \u001b[32m━━━━━━━━━━━━━━━━━━━━\u001b[0m\u001b[37m\u001b[0m \u001b[1m38s\u001b[0m 3ms/step - accuracy: 0.9572 - loss: 0.1097 - val_accuracy: 0.9631 - val_loss: 0.0984\n",
      "Epoch 9/20\n",
      "\u001b[1m14189/14189\u001b[0m \u001b[32m━━━━━━━━━━━━━━━━━━━━\u001b[0m\u001b[37m\u001b[0m \u001b[1m36s\u001b[0m 3ms/step - accuracy: 0.9568 - loss: 0.1115 - val_accuracy: 0.9587 - val_loss: 0.0999\n",
      "Epoch 10/20\n",
      "\u001b[1m14189/14189\u001b[0m \u001b[32m━━━━━━━━━━━━━━━━━━━━\u001b[0m\u001b[37m\u001b[0m \u001b[1m36s\u001b[0m 3ms/step - accuracy: 0.9577 - loss: 0.1104 - val_accuracy: 0.9579 - val_loss: 0.1075\n",
      "Epoch 11/20\n",
      "\u001b[1m14189/14189\u001b[0m \u001b[32m━━━━━━━━━━━━━━━━━━━━\u001b[0m\u001b[37m\u001b[0m \u001b[1m36s\u001b[0m 3ms/step - accuracy: 0.9574 - loss: 0.1075 - val_accuracy: 0.9622 - val_loss: 0.0948\n",
      "Epoch 12/20\n",
      "\u001b[1m14189/14189\u001b[0m \u001b[32m━━━━━━━━━━━━━━━━━━━━\u001b[0m\u001b[37m\u001b[0m \u001b[1m36s\u001b[0m 3ms/step - accuracy: 0.9590 - loss: 0.1056 - val_accuracy: 0.9656 - val_loss: 0.1069\n",
      "Epoch 13/20\n",
      "\u001b[1m14189/14189\u001b[0m \u001b[32m━━━━━━━━━━━━━━━━━━━━\u001b[0m\u001b[37m\u001b[0m \u001b[1m36s\u001b[0m 3ms/step - accuracy: 0.9582 - loss: 0.1069 - val_accuracy: 0.9637 - val_loss: 0.0905\n",
      "Epoch 14/20\n",
      "\u001b[1m14189/14189\u001b[0m \u001b[32m━━━━━━━━━━━━━━━━━━━━\u001b[0m\u001b[37m\u001b[0m \u001b[1m41s\u001b[0m 3ms/step - accuracy: 0.9581 - loss: 0.1122 - val_accuracy: 0.9643 - val_loss: 0.0903\n",
      "Epoch 15/20\n",
      "\u001b[1m14189/14189\u001b[0m \u001b[32m━━━━━━━━━━━━━━━━━━━━\u001b[0m\u001b[37m\u001b[0m \u001b[1m36s\u001b[0m 3ms/step - accuracy: 0.9581 - loss: 0.1079 - val_accuracy: 0.9609 - val_loss: 0.0977\n",
      "Epoch 16/20\n",
      "\u001b[1m14189/14189\u001b[0m \u001b[32m━━━━━━━━━━━━━━━━━━━━\u001b[0m\u001b[37m\u001b[0m \u001b[1m35s\u001b[0m 2ms/step - accuracy: 0.9588 - loss: 0.1055 - val_accuracy: 0.9643 - val_loss: 0.0929\n",
      "Epoch 17/20\n",
      "\u001b[1m14189/14189\u001b[0m \u001b[32m━━━━━━━━━━━━━━━━━━━━\u001b[0m\u001b[37m\u001b[0m \u001b[1m36s\u001b[0m 3ms/step - accuracy: 0.9581 - loss: 0.1065 - val_accuracy: 0.9643 - val_loss: 0.0908\n",
      "Epoch 18/20\n",
      "\u001b[1m14189/14189\u001b[0m \u001b[32m━━━━━━━━━━━━━━━━━━━━\u001b[0m\u001b[37m\u001b[0m \u001b[1m36s\u001b[0m 3ms/step - accuracy: 0.9581 - loss: 0.1067 - val_accuracy: 0.9626 - val_loss: 0.0960\n",
      "Epoch 19/20\n",
      "\u001b[1m14189/14189\u001b[0m \u001b[32m━━━━━━━━━━━━━━━━━━━━\u001b[0m\u001b[37m\u001b[0m \u001b[1m36s\u001b[0m 3ms/step - accuracy: 0.9588 - loss: 0.1045 - val_accuracy: 0.9630 - val_loss: 0.0935\n",
      "Epoch 20/20\n",
      "\u001b[1m14189/14189\u001b[0m \u001b[32m━━━━━━━━━━━━━━━━━━━━\u001b[0m\u001b[37m\u001b[0m \u001b[1m36s\u001b[0m 3ms/step - accuracy: 0.9578 - loss: 0.1077 - val_accuracy: 0.9611 - val_loss: 0.0928\n"
     ]
    }
   ],
   "source": [
    "# Fit the Keras Classifier model with the optimal hyperparameters\n",
    "mymodel= model.fit(X_train, y_train, epochs=20, validation_data=(X_test, y_test))"
   ]
  },
  {
   "cell_type": "code",
   "execution_count": 49,
   "id": "84cab756",
   "metadata": {
    "execution": {
     "iopub.execute_input": "2024-04-29T13:03:40.077471Z",
     "iopub.status.busy": "2024-04-29T13:03:40.076430Z",
     "iopub.status.idle": "2024-04-29T13:03:49.003829Z",
     "shell.execute_reply": "2024-04-29T13:03:49.002769Z"
    },
    "papermill": {
     "duration": 9.942366,
     "end_time": "2024-04-29T13:03:49.006452",
     "exception": false,
     "start_time": "2024-04-29T13:03:39.064086",
     "status": "completed"
    },
    "tags": []
   },
   "outputs": [
    {
     "name": "stdout",
     "output_type": "stream",
     "text": [
      "\u001b[1m4730/4730\u001b[0m \u001b[32m━━━━━━━━━━━━━━━━━━━━\u001b[0m\u001b[37m\u001b[0m \u001b[1m6s\u001b[0m 1ms/step\n"
     ]
    }
   ],
   "source": [
    "y_pred=model.predict(X_test)\n",
    "y_pred = (y_pred > 0.5)"
   ]
  },
  {
   "cell_type": "code",
   "execution_count": 50,
   "id": "e359de0c",
   "metadata": {
    "execution": {
     "iopub.execute_input": "2024-04-29T13:03:51.017306Z",
     "iopub.status.busy": "2024-04-29T13:03:51.016343Z",
     "iopub.status.idle": "2024-04-29T13:03:51.164819Z",
     "shell.execute_reply": "2024-04-29T13:03:51.163711Z"
    },
    "papermill": {
     "duration": 1.184006,
     "end_time": "2024-04-29T13:03:51.166826",
     "exception": false,
     "start_time": "2024-04-29T13:03:49.982820",
     "status": "completed"
    },
    "tags": []
   },
   "outputs": [
    {
     "name": "stdout",
     "output_type": "stream",
     "text": [
      "Confusion Matrix: \n",
      " [[70598  5138]\n",
      " [  751 74857]]\n",
      "\n",
      "\n",
      "Accuracy Score: \n",
      " 0.9610886457342214\n",
      "\n",
      "\n",
      "Classification Report: \n",
      "               precision    recall  f1-score   support\n",
      "\n",
      "           0       0.99      0.93      0.96     75736\n",
      "           1       0.94      0.99      0.96     75608\n",
      "\n",
      "    accuracy                           0.96    151344\n",
      "   macro avg       0.96      0.96      0.96    151344\n",
      "weighted avg       0.96      0.96      0.96    151344\n",
      "\n"
     ]
    }
   ],
   "source": [
    "print(\"Confusion Matrix: \\n\",confusion_matrix(y_test,y_pred))\n",
    "print('\\n')\n",
    "print(\"Accuracy Score: \\n\",accuracy_score(y_test,y_pred))\n",
    "print('\\n')\n",
    "print(\"Classification Report: \\n\",classification_report(y_test,y_pred))"
   ]
  },
  {
   "cell_type": "markdown",
   "id": "a1aeb46d",
   "metadata": {
    "papermill": {
     "duration": 1.063953,
     "end_time": "2024-04-29T13:03:53.239682",
     "exception": false,
     "start_time": "2024-04-29T13:03:52.175729",
     "status": "completed"
    },
    "tags": []
   },
   "source": [
    "# Step 2"
   ]
  },
  {
   "cell_type": "markdown",
   "id": "bc4c0e11",
   "metadata": {
    "papermill": {
     "duration": 1.088145,
     "end_time": "2024-04-29T13:03:55.299814",
     "exception": false,
     "start_time": "2024-04-29T13:03:54.211669",
     "status": "completed"
    },
    "tags": []
   },
   "source": [
    "# Investment Strategy Based on Default Minimization"
   ]
  },
  {
   "cell_type": "code",
   "execution_count": 51,
   "id": "939bf6cb",
   "metadata": {
    "execution": {
     "iopub.execute_input": "2024-04-29T13:03:57.261793Z",
     "iopub.status.busy": "2024-04-29T13:03:57.261092Z",
     "iopub.status.idle": "2024-04-29T13:03:57.311549Z",
     "shell.execute_reply": "2024-04-29T13:03:57.310501Z"
    },
    "papermill": {
     "duration": 1.026424,
     "end_time": "2024-04-29T13:03:57.313858",
     "exception": false,
     "start_time": "2024-04-29T13:03:56.287434",
     "status": "completed"
    },
    "tags": []
   },
   "outputs": [],
   "source": [
    "# Dividing our dataset into independent and dependent features\n",
    "X=df.drop('loan_status',axis=1)\n",
    "y=df['loan_status']"
   ]
  },
  {
   "cell_type": "code",
   "execution_count": 52,
   "id": "d0e9be73",
   "metadata": {
    "execution": {
     "iopub.execute_input": "2024-04-29T13:03:59.311226Z",
     "iopub.status.busy": "2024-04-29T13:03:59.310370Z",
     "iopub.status.idle": "2024-04-29T13:03:59.512787Z",
     "shell.execute_reply": "2024-04-29T13:03:59.511935Z"
    },
    "papermill": {
     "duration": 1.175398,
     "end_time": "2024-04-29T13:03:59.515066",
     "exception": false,
     "start_time": "2024-04-29T13:03:58.339668",
     "status": "completed"
    },
    "tags": []
   },
   "outputs": [],
   "source": [
    "# Splitting our dataset between training and testing set\n",
    "X_train, X_test, y_train, y_test = train_test_split(X, y, test_size=0.25,random_state=100)"
   ]
  },
  {
   "cell_type": "code",
   "execution_count": 53,
   "id": "985b1015",
   "metadata": {
    "execution": {
     "iopub.execute_input": "2024-04-29T13:04:01.556042Z",
     "iopub.status.busy": "2024-04-29T13:04:01.555162Z",
     "iopub.status.idle": "2024-04-29T13:04:01.791862Z",
     "shell.execute_reply": "2024-04-29T13:04:01.790986Z"
    },
    "papermill": {
     "duration": 1.214073,
     "end_time": "2024-04-29T13:04:01.794260",
     "exception": false,
     "start_time": "2024-04-29T13:04:00.580187",
     "status": "completed"
    },
    "tags": []
   },
   "outputs": [],
   "source": [
    "# MinMax Scaler\n",
    "scaler = MinMaxScaler()\n",
    "X_train = scaler.fit_transform(X_train)\n",
    "X_test = scaler.transform(X_test)"
   ]
  },
  {
   "cell_type": "code",
   "execution_count": 54,
   "id": "d287f03c",
   "metadata": {
    "execution": {
     "iopub.execute_input": "2024-04-29T13:04:03.788856Z",
     "iopub.status.busy": "2024-04-29T13:04:03.788196Z",
     "iopub.status.idle": "2024-04-29T13:04:03.801868Z",
     "shell.execute_reply": "2024-04-29T13:04:03.800867Z"
    },
    "papermill": {
     "duration": 0.979734,
     "end_time": "2024-04-29T13:04:03.804367",
     "exception": false,
     "start_time": "2024-04-29T13:04:02.824633",
     "status": "completed"
    },
    "tags": []
   },
   "outputs": [
    {
     "data": {
      "text/plain": [
       "loan_status\n",
       "0    605353\n",
       "1        21\n",
       "Name: count, dtype: int64"
      ]
     },
     "execution_count": 54,
     "metadata": {},
     "output_type": "execute_result"
    }
   ],
   "source": [
    "df['loan_status'].value_counts()"
   ]
  },
  {
   "cell_type": "code",
   "execution_count": 55,
   "id": "fb2bdc87",
   "metadata": {
    "execution": {
     "iopub.execute_input": "2024-04-29T13:04:05.832302Z",
     "iopub.status.busy": "2024-04-29T13:04:05.831929Z",
     "iopub.status.idle": "2024-04-29T13:04:05.850094Z",
     "shell.execute_reply": "2024-04-29T13:04:05.848783Z"
    },
    "papermill": {
     "duration": 1.025267,
     "end_time": "2024-04-29T13:04:05.852136",
     "exception": false,
     "start_time": "2024-04-29T13:04:04.826869",
     "status": "completed"
    },
    "tags": []
   },
   "outputs": [
    {
     "name": "stdout",
     "output_type": "stream",
     "text": [
      "Fully Paid: 99.99653107004926\n",
      "Default: 0.003468929950741195\n"
     ]
    }
   ],
   "source": [
    "print(\"Fully Paid:\",df['loan_status'].value_counts()[0]/len(df['loan_status'])*100)\n",
    "print(\"Default:\",df['loan_status'].value_counts()[1]/len(df['loan_status'])*100)"
   ]
  },
  {
   "cell_type": "code",
   "execution_count": 56,
   "id": "b13b8ddf",
   "metadata": {
    "execution": {
     "iopub.execute_input": "2024-04-29T13:04:07.889494Z",
     "iopub.status.busy": "2024-04-29T13:04:07.888695Z",
     "iopub.status.idle": "2024-04-29T13:04:09.054329Z",
     "shell.execute_reply": "2024-04-29T13:04:09.053164Z"
    },
    "papermill": {
     "duration": 2.138621,
     "end_time": "2024-04-29T13:04:09.056466",
     "exception": false,
     "start_time": "2024-04-29T13:04:06.917845",
     "status": "completed"
    },
    "tags": []
   },
   "outputs": [
    {
     "name": "stdout",
     "output_type": "stream",
     "text": [
      "The number of classes before fit Counter({0: 454013, 1: 17})\n",
      "The number of classes after fit Counter({0: 17, 1: 17})\n"
     ]
    }
   ],
   "source": [
    "ns=NearMiss()\n",
    "X_train_ns,y_train_ns=ns.fit_resample(X_train,y_train)\n",
    "print(\"The number of classes before fit {}\".format(Counter(y_train)))\n",
    "print(\"The number of classes after fit {}\".format(Counter(y_train_ns)))"
   ]
  },
  {
   "cell_type": "code",
   "execution_count": 57,
   "id": "49976b23",
   "metadata": {
    "execution": {
     "iopub.execute_input": "2024-04-29T13:04:11.122501Z",
     "iopub.status.busy": "2024-04-29T13:04:11.121521Z",
     "iopub.status.idle": "2024-04-29T13:04:11.326571Z",
     "shell.execute_reply": "2024-04-29T13:04:11.325600Z"
    },
    "papermill": {
     "duration": 1.301211,
     "end_time": "2024-04-29T13:04:11.329060",
     "exception": false,
     "start_time": "2024-04-29T13:04:10.027849",
     "status": "completed"
    },
    "tags": []
   },
   "outputs": [
    {
     "data": {
      "text/html": [
       "<style>#sk-container-id-2 {\n",
       "  /* Definition of color scheme common for light and dark mode */\n",
       "  --sklearn-color-text: black;\n",
       "  --sklearn-color-line: gray;\n",
       "  /* Definition of color scheme for unfitted estimators */\n",
       "  --sklearn-color-unfitted-level-0: #fff5e6;\n",
       "  --sklearn-color-unfitted-level-1: #f6e4d2;\n",
       "  --sklearn-color-unfitted-level-2: #ffe0b3;\n",
       "  --sklearn-color-unfitted-level-3: chocolate;\n",
       "  /* Definition of color scheme for fitted estimators */\n",
       "  --sklearn-color-fitted-level-0: #f0f8ff;\n",
       "  --sklearn-color-fitted-level-1: #d4ebff;\n",
       "  --sklearn-color-fitted-level-2: #b3dbfd;\n",
       "  --sklearn-color-fitted-level-3: cornflowerblue;\n",
       "\n",
       "  /* Specific color for light theme */\n",
       "  --sklearn-color-text-on-default-background: var(--sg-text-color, var(--theme-code-foreground, var(--jp-content-font-color1, black)));\n",
       "  --sklearn-color-background: var(--sg-background-color, var(--theme-background, var(--jp-layout-color0, white)));\n",
       "  --sklearn-color-border-box: var(--sg-text-color, var(--theme-code-foreground, var(--jp-content-font-color1, black)));\n",
       "  --sklearn-color-icon: #696969;\n",
       "\n",
       "  @media (prefers-color-scheme: dark) {\n",
       "    /* Redefinition of color scheme for dark theme */\n",
       "    --sklearn-color-text-on-default-background: var(--sg-text-color, var(--theme-code-foreground, var(--jp-content-font-color1, white)));\n",
       "    --sklearn-color-background: var(--sg-background-color, var(--theme-background, var(--jp-layout-color0, #111)));\n",
       "    --sklearn-color-border-box: var(--sg-text-color, var(--theme-code-foreground, var(--jp-content-font-color1, white)));\n",
       "    --sklearn-color-icon: #878787;\n",
       "  }\n",
       "}\n",
       "\n",
       "#sk-container-id-2 {\n",
       "  color: var(--sklearn-color-text);\n",
       "}\n",
       "\n",
       "#sk-container-id-2 pre {\n",
       "  padding: 0;\n",
       "}\n",
       "\n",
       "#sk-container-id-2 input.sk-hidden--visually {\n",
       "  border: 0;\n",
       "  clip: rect(1px 1px 1px 1px);\n",
       "  clip: rect(1px, 1px, 1px, 1px);\n",
       "  height: 1px;\n",
       "  margin: -1px;\n",
       "  overflow: hidden;\n",
       "  padding: 0;\n",
       "  position: absolute;\n",
       "  width: 1px;\n",
       "}\n",
       "\n",
       "#sk-container-id-2 div.sk-dashed-wrapped {\n",
       "  border: 1px dashed var(--sklearn-color-line);\n",
       "  margin: 0 0.4em 0.5em 0.4em;\n",
       "  box-sizing: border-box;\n",
       "  padding-bottom: 0.4em;\n",
       "  background-color: var(--sklearn-color-background);\n",
       "}\n",
       "\n",
       "#sk-container-id-2 div.sk-container {\n",
       "  /* jupyter's `normalize.less` sets `[hidden] { display: none; }`\n",
       "     but bootstrap.min.css set `[hidden] { display: none !important; }`\n",
       "     so we also need the `!important` here to be able to override the\n",
       "     default hidden behavior on the sphinx rendered scikit-learn.org.\n",
       "     See: https://github.com/scikit-learn/scikit-learn/issues/21755 */\n",
       "  display: inline-block !important;\n",
       "  position: relative;\n",
       "}\n",
       "\n",
       "#sk-container-id-2 div.sk-text-repr-fallback {\n",
       "  display: none;\n",
       "}\n",
       "\n",
       "div.sk-parallel-item,\n",
       "div.sk-serial,\n",
       "div.sk-item {\n",
       "  /* draw centered vertical line to link estimators */\n",
       "  background-image: linear-gradient(var(--sklearn-color-text-on-default-background), var(--sklearn-color-text-on-default-background));\n",
       "  background-size: 2px 100%;\n",
       "  background-repeat: no-repeat;\n",
       "  background-position: center center;\n",
       "}\n",
       "\n",
       "/* Parallel-specific style estimator block */\n",
       "\n",
       "#sk-container-id-2 div.sk-parallel-item::after {\n",
       "  content: \"\";\n",
       "  width: 100%;\n",
       "  border-bottom: 2px solid var(--sklearn-color-text-on-default-background);\n",
       "  flex-grow: 1;\n",
       "}\n",
       "\n",
       "#sk-container-id-2 div.sk-parallel {\n",
       "  display: flex;\n",
       "  align-items: stretch;\n",
       "  justify-content: center;\n",
       "  background-color: var(--sklearn-color-background);\n",
       "  position: relative;\n",
       "}\n",
       "\n",
       "#sk-container-id-2 div.sk-parallel-item {\n",
       "  display: flex;\n",
       "  flex-direction: column;\n",
       "}\n",
       "\n",
       "#sk-container-id-2 div.sk-parallel-item:first-child::after {\n",
       "  align-self: flex-end;\n",
       "  width: 50%;\n",
       "}\n",
       "\n",
       "#sk-container-id-2 div.sk-parallel-item:last-child::after {\n",
       "  align-self: flex-start;\n",
       "  width: 50%;\n",
       "}\n",
       "\n",
       "#sk-container-id-2 div.sk-parallel-item:only-child::after {\n",
       "  width: 0;\n",
       "}\n",
       "\n",
       "/* Serial-specific style estimator block */\n",
       "\n",
       "#sk-container-id-2 div.sk-serial {\n",
       "  display: flex;\n",
       "  flex-direction: column;\n",
       "  align-items: center;\n",
       "  background-color: var(--sklearn-color-background);\n",
       "  padding-right: 1em;\n",
       "  padding-left: 1em;\n",
       "}\n",
       "\n",
       "\n",
       "/* Toggleable style: style used for estimator/Pipeline/ColumnTransformer box that is\n",
       "clickable and can be expanded/collapsed.\n",
       "- Pipeline and ColumnTransformer use this feature and define the default style\n",
       "- Estimators will overwrite some part of the style using the `sk-estimator` class\n",
       "*/\n",
       "\n",
       "/* Pipeline and ColumnTransformer style (default) */\n",
       "\n",
       "#sk-container-id-2 div.sk-toggleable {\n",
       "  /* Default theme specific background. It is overwritten whether we have a\n",
       "  specific estimator or a Pipeline/ColumnTransformer */\n",
       "  background-color: var(--sklearn-color-background);\n",
       "}\n",
       "\n",
       "/* Toggleable label */\n",
       "#sk-container-id-2 label.sk-toggleable__label {\n",
       "  cursor: pointer;\n",
       "  display: block;\n",
       "  width: 100%;\n",
       "  margin-bottom: 0;\n",
       "  padding: 0.5em;\n",
       "  box-sizing: border-box;\n",
       "  text-align: center;\n",
       "}\n",
       "\n",
       "#sk-container-id-2 label.sk-toggleable__label-arrow:before {\n",
       "  /* Arrow on the left of the label */\n",
       "  content: \"▸\";\n",
       "  float: left;\n",
       "  margin-right: 0.25em;\n",
       "  color: var(--sklearn-color-icon);\n",
       "}\n",
       "\n",
       "#sk-container-id-2 label.sk-toggleable__label-arrow:hover:before {\n",
       "  color: var(--sklearn-color-text);\n",
       "}\n",
       "\n",
       "/* Toggleable content - dropdown */\n",
       "\n",
       "#sk-container-id-2 div.sk-toggleable__content {\n",
       "  max-height: 0;\n",
       "  max-width: 0;\n",
       "  overflow: hidden;\n",
       "  text-align: left;\n",
       "  /* unfitted */\n",
       "  background-color: var(--sklearn-color-unfitted-level-0);\n",
       "}\n",
       "\n",
       "#sk-container-id-2 div.sk-toggleable__content.fitted {\n",
       "  /* fitted */\n",
       "  background-color: var(--sklearn-color-fitted-level-0);\n",
       "}\n",
       "\n",
       "#sk-container-id-2 div.sk-toggleable__content pre {\n",
       "  margin: 0.2em;\n",
       "  border-radius: 0.25em;\n",
       "  color: var(--sklearn-color-text);\n",
       "  /* unfitted */\n",
       "  background-color: var(--sklearn-color-unfitted-level-0);\n",
       "}\n",
       "\n",
       "#sk-container-id-2 div.sk-toggleable__content.fitted pre {\n",
       "  /* unfitted */\n",
       "  background-color: var(--sklearn-color-fitted-level-0);\n",
       "}\n",
       "\n",
       "#sk-container-id-2 input.sk-toggleable__control:checked~div.sk-toggleable__content {\n",
       "  /* Expand drop-down */\n",
       "  max-height: 200px;\n",
       "  max-width: 100%;\n",
       "  overflow: auto;\n",
       "}\n",
       "\n",
       "#sk-container-id-2 input.sk-toggleable__control:checked~label.sk-toggleable__label-arrow:before {\n",
       "  content: \"▾\";\n",
       "}\n",
       "\n",
       "/* Pipeline/ColumnTransformer-specific style */\n",
       "\n",
       "#sk-container-id-2 div.sk-label input.sk-toggleable__control:checked~label.sk-toggleable__label {\n",
       "  color: var(--sklearn-color-text);\n",
       "  background-color: var(--sklearn-color-unfitted-level-2);\n",
       "}\n",
       "\n",
       "#sk-container-id-2 div.sk-label.fitted input.sk-toggleable__control:checked~label.sk-toggleable__label {\n",
       "  background-color: var(--sklearn-color-fitted-level-2);\n",
       "}\n",
       "\n",
       "/* Estimator-specific style */\n",
       "\n",
       "/* Colorize estimator box */\n",
       "#sk-container-id-2 div.sk-estimator input.sk-toggleable__control:checked~label.sk-toggleable__label {\n",
       "  /* unfitted */\n",
       "  background-color: var(--sklearn-color-unfitted-level-2);\n",
       "}\n",
       "\n",
       "#sk-container-id-2 div.sk-estimator.fitted input.sk-toggleable__control:checked~label.sk-toggleable__label {\n",
       "  /* fitted */\n",
       "  background-color: var(--sklearn-color-fitted-level-2);\n",
       "}\n",
       "\n",
       "#sk-container-id-2 div.sk-label label.sk-toggleable__label,\n",
       "#sk-container-id-2 div.sk-label label {\n",
       "  /* The background is the default theme color */\n",
       "  color: var(--sklearn-color-text-on-default-background);\n",
       "}\n",
       "\n",
       "/* On hover, darken the color of the background */\n",
       "#sk-container-id-2 div.sk-label:hover label.sk-toggleable__label {\n",
       "  color: var(--sklearn-color-text);\n",
       "  background-color: var(--sklearn-color-unfitted-level-2);\n",
       "}\n",
       "\n",
       "/* Label box, darken color on hover, fitted */\n",
       "#sk-container-id-2 div.sk-label.fitted:hover label.sk-toggleable__label.fitted {\n",
       "  color: var(--sklearn-color-text);\n",
       "  background-color: var(--sklearn-color-fitted-level-2);\n",
       "}\n",
       "\n",
       "/* Estimator label */\n",
       "\n",
       "#sk-container-id-2 div.sk-label label {\n",
       "  font-family: monospace;\n",
       "  font-weight: bold;\n",
       "  display: inline-block;\n",
       "  line-height: 1.2em;\n",
       "}\n",
       "\n",
       "#sk-container-id-2 div.sk-label-container {\n",
       "  text-align: center;\n",
       "}\n",
       "\n",
       "/* Estimator-specific */\n",
       "#sk-container-id-2 div.sk-estimator {\n",
       "  font-family: monospace;\n",
       "  border: 1px dotted var(--sklearn-color-border-box);\n",
       "  border-radius: 0.25em;\n",
       "  box-sizing: border-box;\n",
       "  margin-bottom: 0.5em;\n",
       "  /* unfitted */\n",
       "  background-color: var(--sklearn-color-unfitted-level-0);\n",
       "}\n",
       "\n",
       "#sk-container-id-2 div.sk-estimator.fitted {\n",
       "  /* fitted */\n",
       "  background-color: var(--sklearn-color-fitted-level-0);\n",
       "}\n",
       "\n",
       "/* on hover */\n",
       "#sk-container-id-2 div.sk-estimator:hover {\n",
       "  /* unfitted */\n",
       "  background-color: var(--sklearn-color-unfitted-level-2);\n",
       "}\n",
       "\n",
       "#sk-container-id-2 div.sk-estimator.fitted:hover {\n",
       "  /* fitted */\n",
       "  background-color: var(--sklearn-color-fitted-level-2);\n",
       "}\n",
       "\n",
       "/* Specification for estimator info (e.g. \"i\" and \"?\") */\n",
       "\n",
       "/* Common style for \"i\" and \"?\" */\n",
       "\n",
       ".sk-estimator-doc-link,\n",
       "a:link.sk-estimator-doc-link,\n",
       "a:visited.sk-estimator-doc-link {\n",
       "  float: right;\n",
       "  font-size: smaller;\n",
       "  line-height: 1em;\n",
       "  font-family: monospace;\n",
       "  background-color: var(--sklearn-color-background);\n",
       "  border-radius: 1em;\n",
       "  height: 1em;\n",
       "  width: 1em;\n",
       "  text-decoration: none !important;\n",
       "  margin-left: 1ex;\n",
       "  /* unfitted */\n",
       "  border: var(--sklearn-color-unfitted-level-1) 1pt solid;\n",
       "  color: var(--sklearn-color-unfitted-level-1);\n",
       "}\n",
       "\n",
       ".sk-estimator-doc-link.fitted,\n",
       "a:link.sk-estimator-doc-link.fitted,\n",
       "a:visited.sk-estimator-doc-link.fitted {\n",
       "  /* fitted */\n",
       "  border: var(--sklearn-color-fitted-level-1) 1pt solid;\n",
       "  color: var(--sklearn-color-fitted-level-1);\n",
       "}\n",
       "\n",
       "/* On hover */\n",
       "div.sk-estimator:hover .sk-estimator-doc-link:hover,\n",
       ".sk-estimator-doc-link:hover,\n",
       "div.sk-label-container:hover .sk-estimator-doc-link:hover,\n",
       ".sk-estimator-doc-link:hover {\n",
       "  /* unfitted */\n",
       "  background-color: var(--sklearn-color-unfitted-level-3);\n",
       "  color: var(--sklearn-color-background);\n",
       "  text-decoration: none;\n",
       "}\n",
       "\n",
       "div.sk-estimator.fitted:hover .sk-estimator-doc-link.fitted:hover,\n",
       ".sk-estimator-doc-link.fitted:hover,\n",
       "div.sk-label-container:hover .sk-estimator-doc-link.fitted:hover,\n",
       ".sk-estimator-doc-link.fitted:hover {\n",
       "  /* fitted */\n",
       "  background-color: var(--sklearn-color-fitted-level-3);\n",
       "  color: var(--sklearn-color-background);\n",
       "  text-decoration: none;\n",
       "}\n",
       "\n",
       "/* Span, style for the box shown on hovering the info icon */\n",
       ".sk-estimator-doc-link span {\n",
       "  display: none;\n",
       "  z-index: 9999;\n",
       "  position: relative;\n",
       "  font-weight: normal;\n",
       "  right: .2ex;\n",
       "  padding: .5ex;\n",
       "  margin: .5ex;\n",
       "  width: min-content;\n",
       "  min-width: 20ex;\n",
       "  max-width: 50ex;\n",
       "  color: var(--sklearn-color-text);\n",
       "  box-shadow: 2pt 2pt 4pt #999;\n",
       "  /* unfitted */\n",
       "  background: var(--sklearn-color-unfitted-level-0);\n",
       "  border: .5pt solid var(--sklearn-color-unfitted-level-3);\n",
       "}\n",
       "\n",
       ".sk-estimator-doc-link.fitted span {\n",
       "  /* fitted */\n",
       "  background: var(--sklearn-color-fitted-level-0);\n",
       "  border: var(--sklearn-color-fitted-level-3);\n",
       "}\n",
       "\n",
       ".sk-estimator-doc-link:hover span {\n",
       "  display: block;\n",
       "}\n",
       "\n",
       "/* \"?\"-specific style due to the `<a>` HTML tag */\n",
       "\n",
       "#sk-container-id-2 a.estimator_doc_link {\n",
       "  float: right;\n",
       "  font-size: 1rem;\n",
       "  line-height: 1em;\n",
       "  font-family: monospace;\n",
       "  background-color: var(--sklearn-color-background);\n",
       "  border-radius: 1rem;\n",
       "  height: 1rem;\n",
       "  width: 1rem;\n",
       "  text-decoration: none;\n",
       "  /* unfitted */\n",
       "  color: var(--sklearn-color-unfitted-level-1);\n",
       "  border: var(--sklearn-color-unfitted-level-1) 1pt solid;\n",
       "}\n",
       "\n",
       "#sk-container-id-2 a.estimator_doc_link.fitted {\n",
       "  /* fitted */\n",
       "  border: var(--sklearn-color-fitted-level-1) 1pt solid;\n",
       "  color: var(--sklearn-color-fitted-level-1);\n",
       "}\n",
       "\n",
       "/* On hover */\n",
       "#sk-container-id-2 a.estimator_doc_link:hover {\n",
       "  /* unfitted */\n",
       "  background-color: var(--sklearn-color-unfitted-level-3);\n",
       "  color: var(--sklearn-color-background);\n",
       "  text-decoration: none;\n",
       "}\n",
       "\n",
       "#sk-container-id-2 a.estimator_doc_link.fitted:hover {\n",
       "  /* fitted */\n",
       "  background-color: var(--sklearn-color-fitted-level-3);\n",
       "}\n",
       "</style><div id=\"sk-container-id-2\" class=\"sk-top-container\"><div class=\"sk-text-repr-fallback\"><pre>RandomForestClassifier()</pre><b>In a Jupyter environment, please rerun this cell to show the HTML representation or trust the notebook. <br />On GitHub, the HTML representation is unable to render, please try loading this page with nbviewer.org.</b></div><div class=\"sk-container\" hidden><div class=\"sk-item\"><div class=\"sk-estimator fitted sk-toggleable\"><input class=\"sk-toggleable__control sk-hidden--visually\" id=\"sk-estimator-id-2\" type=\"checkbox\" checked><label for=\"sk-estimator-id-2\" class=\"sk-toggleable__label fitted sk-toggleable__label-arrow fitted\">&nbsp;&nbsp;RandomForestClassifier<a class=\"sk-estimator-doc-link fitted\" rel=\"noreferrer\" target=\"_blank\" href=\"https://scikit-learn.org/1.4/modules/generated/sklearn.ensemble.RandomForestClassifier.html\">?<span>Documentation for RandomForestClassifier</span></a><span class=\"sk-estimator-doc-link fitted\">i<span>Fitted</span></span></label><div class=\"sk-toggleable__content fitted\"><pre>RandomForestClassifier()</pre></div> </div></div></div></div>"
      ],
      "text/plain": [
       "RandomForestClassifier()"
      ]
     },
     "execution_count": 57,
     "metadata": {},
     "output_type": "execute_result"
    }
   ],
   "source": [
    "model1=RandomForestClassifier()\n",
    "model1.fit(X_train_ns,y_train_ns)"
   ]
  },
  {
   "cell_type": "code",
   "execution_count": 58,
   "id": "3eb7b5ea",
   "metadata": {
    "execution": {
     "iopub.execute_input": "2024-04-29T13:04:13.349329Z",
     "iopub.status.busy": "2024-04-29T13:04:13.348578Z",
     "iopub.status.idle": "2024-04-29T13:04:13.857474Z",
     "shell.execute_reply": "2024-04-29T13:04:13.856508Z"
    },
    "papermill": {
     "duration": 1.546692,
     "end_time": "2024-04-29T13:04:13.859788",
     "exception": false,
     "start_time": "2024-04-29T13:04:12.313096",
     "status": "completed"
    },
    "tags": []
   },
   "outputs": [
    {
     "name": "stdout",
     "output_type": "stream",
     "text": [
      "Confusion Matrix: \n",
      " [[ 17717 133623]\n",
      " [     0      4]]\n",
      "\n",
      "\n",
      "Accuracy Score: \n",
      " 0.11709086584205519\n",
      "\n",
      "\n",
      "Classification Report: \n",
      "               precision    recall  f1-score   support\n",
      "\n",
      "           0       1.00      0.12      0.21    151340\n",
      "           1       0.00      1.00      0.00         4\n",
      "\n",
      "    accuracy                           0.12    151344\n",
      "   macro avg       0.50      0.56      0.10    151344\n",
      "weighted avg       1.00      0.12      0.21    151344\n",
      "\n"
     ]
    }
   ],
   "source": [
    "y_pred=model1.predict(X_test)\n",
    "print(\"Confusion Matrix: \\n\",confusion_matrix(y_test,y_pred))\n",
    "print('\\n')\n",
    "print(\"Accuracy Score: \\n\",accuracy_score(y_test,y_pred))\n",
    "print('\\n')\n",
    "print(\"Classification Report: \\n\",classification_report(y_test,y_pred))"
   ]
  },
  {
   "cell_type": "code",
   "execution_count": 59,
   "id": "313d86fd",
   "metadata": {
    "execution": {
     "iopub.execute_input": "2024-04-29T13:04:15.904962Z",
     "iopub.status.busy": "2024-04-29T13:04:15.904141Z",
     "iopub.status.idle": "2024-04-29T13:04:16.496955Z",
     "shell.execute_reply": "2024-04-29T13:04:16.495796Z"
    },
    "papermill": {
     "duration": 1.665346,
     "end_time": "2024-04-29T13:04:16.499025",
     "exception": false,
     "start_time": "2024-04-29T13:04:14.833679",
     "status": "completed"
    },
    "tags": []
   },
   "outputs": [
    {
     "name": "stdout",
     "output_type": "stream",
     "text": [
      "The number of classes before fit Counter({0: 454013, 1: 17})\n",
      "The number of classes after fit Counter({0: 454013, 1: 454013})\n"
     ]
    }
   ],
   "source": [
    "from imblearn.over_sampling import RandomOverSampler\n",
    "os=RandomOverSampler()\n",
    "X_train_os,y_train_os=os.fit_resample(X_train,y_train)\n",
    "print(\"The number of classes before fit {}\".format(Counter(y_train)))\n",
    "print(\"The number of classes after fit {}\".format(Counter(y_train_os)))"
   ]
  },
  {
   "cell_type": "code",
   "execution_count": 60,
   "id": "b52b2d0a",
   "metadata": {
    "execution": {
     "iopub.execute_input": "2024-04-29T13:04:18.495341Z",
     "iopub.status.busy": "2024-04-29T13:04:18.494288Z",
     "iopub.status.idle": "2024-04-29T13:04:18.501234Z",
     "shell.execute_reply": "2024-04-29T13:04:18.500482Z"
    },
    "papermill": {
     "duration": 1.034348,
     "end_time": "2024-04-29T13:04:18.503110",
     "exception": false,
     "start_time": "2024-04-29T13:04:17.468762",
     "status": "completed"
    },
    "tags": []
   },
   "outputs": [],
   "source": [
    "# Define the build_model function for Keras Tuner\n",
    "def build_model(hp):\n",
    "    model = keras.Sequential()\n",
    "    for i in range(hp.Int('num_layers', 2, 20)):\n",
    "        model.add(layers.Dense(units=hp.Int('units_' + str(i), min_value=32, max_value=512, step=32),\n",
    "                               activation='relu'))\n",
    "    model.add(layers.Dense(1, activation='sigmoid'))\n",
    "    model.compile(\n",
    "        optimizer=keras.optimizers.Adam(hp.Choice('learning_rate', [1e-2, 1e-3, 1e-4])),\n",
    "        loss='binary_crossentropy',\n",
    "        metrics=['accuracy'])\n",
    "    return model"
   ]
  },
  {
   "cell_type": "code",
   "execution_count": 61,
   "id": "bb720fe6",
   "metadata": {
    "execution": {
     "iopub.execute_input": "2024-04-29T13:04:20.496429Z",
     "iopub.status.busy": "2024-04-29T13:04:20.496074Z",
     "iopub.status.idle": "2024-04-29T13:04:20.522298Z",
     "shell.execute_reply": "2024-04-29T13:04:20.521280Z"
    },
    "papermill": {
     "duration": 1.057486,
     "end_time": "2024-04-29T13:04:20.524220",
     "exception": false,
     "start_time": "2024-04-29T13:04:19.466734",
     "status": "completed"
    },
    "tags": []
   },
   "outputs": [
    {
     "name": "stdout",
     "output_type": "stream",
     "text": [
      "Reloading Tuner from ./untitled_project/tuner0.json\n"
     ]
    }
   ],
   "source": [
    "tuner = RandomSearch(build_model, objective='val_accuracy', max_trials=3, executions_per_trial=2)\n",
    "tuner.search(X_train_os, y_train_os, epochs=10, validation_data=(X_test, y_test))\n",
    "best_hps = tuner.get_best_hyperparameters(num_trials=1)[0]\n",
    "             # Storing my best hyperparameters in the best_hps variable."
   ]
  },
  {
   "cell_type": "code",
   "execution_count": 62,
   "id": "e5aa288b",
   "metadata": {
    "execution": {
     "iopub.execute_input": "2024-04-29T13:04:22.486828Z",
     "iopub.status.busy": "2024-04-29T13:04:22.485746Z",
     "iopub.status.idle": "2024-04-29T13:04:22.495813Z",
     "shell.execute_reply": "2024-04-29T13:04:22.494914Z"
    },
    "papermill": {
     "duration": 0.991749,
     "end_time": "2024-04-29T13:04:22.497761",
     "exception": false,
     "start_time": "2024-04-29T13:04:21.506012",
     "status": "completed"
    },
    "tags": []
   },
   "outputs": [],
   "source": [
    "# Define the create_model function to build a Keras model with the optimal hyperparameters\n",
    "def create_model(num_layers, num_nodes, activation):\n",
    "    model = keras.Sequential()\n",
    "    for i in range(num_layers):\n",
    "        if i==0:                                                           # checks whether the current layer is the first layer of the model.\n",
    "            model.add(layers.Dense(num_nodes[i], input_dim=X_train.shape[1]))\n",
    "            model.add(layers.Activation(activation))\n",
    "            model.add(layers.Dropout(0.3))\n",
    "        else:\n",
    "            model.add(layers.Dense(num_nodes[i]))\n",
    "            model.add(layers.Activation(activation))\n",
    "            model.add(layers.Dropout(0.3))       \n",
    "    model.add(layers.Dense(units=1, kernel_initializer='glorot_uniform', activation='sigmoid'))\n",
    "    model.compile(optimizer='adam', loss='binary_crossentropy', metrics=['accuracy'])\n",
    "    return model\n",
    "\n",
    "# Generate a list of integers for the number of nodes in each layer\n",
    "num_nodes = [best_hps.get('units_' + str(i)) for i in range(best_hps.get('num_layers'))]\n",
    "\n",
    "model = KerasClassifier(\n",
    "    build_fn=create_model,\n",
    "    num_layers=best_hps.get('num_layers'),\n",
    "    num_nodes=num_nodes,\n",
    "    activation='relu'\n",
    ")"
   ]
  },
  {
   "cell_type": "code",
   "execution_count": 63,
   "id": "079abdab",
   "metadata": {
    "execution": {
     "iopub.execute_input": "2024-04-29T13:04:24.569369Z",
     "iopub.status.busy": "2024-04-29T13:04:24.568469Z",
     "iopub.status.idle": "2024-04-29T13:27:14.685159Z",
     "shell.execute_reply": "2024-04-29T13:27:14.684156Z"
    },
    "papermill": {
     "duration": 1374.183607,
     "end_time": "2024-04-29T13:27:17.763866",
     "exception": false,
     "start_time": "2024-04-29T13:04:23.580259",
     "status": "completed"
    },
    "tags": []
   },
   "outputs": [
    {
     "name": "stdout",
     "output_type": "stream",
     "text": [
      "Epoch 1/20\n",
      "\u001b[1m28376/28376\u001b[0m \u001b[32m━━━━━━━━━━━━━━━━━━━━\u001b[0m\u001b[37m\u001b[0m \u001b[1m94s\u001b[0m 3ms/step - accuracy: 0.9886 - loss: 0.0291 - val_accuracy: 0.9996 - val_loss: 0.0034\n",
      "Epoch 2/20\n",
      "\u001b[1m28376/28376\u001b[0m \u001b[32m━━━━━━━━━━━━━━━━━━━━\u001b[0m\u001b[37m\u001b[0m \u001b[1m66s\u001b[0m 2ms/step - accuracy: 0.9989 - loss: 0.0051 - val_accuracy: 0.9997 - val_loss: 0.0049\n",
      "Epoch 3/20\n",
      "\u001b[1m28376/28376\u001b[0m \u001b[32m━━━━━━━━━━━━━━━━━━━━\u001b[0m\u001b[37m\u001b[0m \u001b[1m67s\u001b[0m 2ms/step - accuracy: 0.9993 - loss: 0.0036 - val_accuracy: 0.9990 - val_loss: 0.0089\n",
      "Epoch 4/20\n",
      "\u001b[1m28376/28376\u001b[0m \u001b[32m━━━━━━━━━━━━━━━━━━━━\u001b[0m\u001b[37m\u001b[0m \u001b[1m69s\u001b[0m 2ms/step - accuracy: 0.9994 - loss: 0.0040 - val_accuracy: 0.9998 - val_loss: 0.0088\n",
      "Epoch 5/20\n",
      "\u001b[1m28376/28376\u001b[0m \u001b[32m━━━━━━━━━━━━━━━━━━━━\u001b[0m\u001b[37m\u001b[0m \u001b[1m69s\u001b[0m 2ms/step - accuracy: 0.9996 - loss: 0.0026 - val_accuracy: 0.9995 - val_loss: 0.0122\n",
      "Epoch 6/20\n",
      "\u001b[1m28376/28376\u001b[0m \u001b[32m━━━━━━━━━━━━━━━━━━━━\u001b[0m\u001b[37m\u001b[0m \u001b[1m69s\u001b[0m 2ms/step - accuracy: 0.9996 - loss: 0.0035 - val_accuracy: 0.9997 - val_loss: 0.0080\n",
      "Epoch 7/20\n",
      "\u001b[1m28376/28376\u001b[0m \u001b[32m━━━━━━━━━━━━━━━━━━━━\u001b[0m\u001b[37m\u001b[0m \u001b[1m68s\u001b[0m 2ms/step - accuracy: 0.9997 - loss: 0.0032 - val_accuracy: 0.9995 - val_loss: 0.0056\n",
      "Epoch 8/20\n",
      "\u001b[1m28376/28376\u001b[0m \u001b[32m━━━━━━━━━━━━━━━━━━━━\u001b[0m\u001b[37m\u001b[0m \u001b[1m66s\u001b[0m 2ms/step - accuracy: 0.9997 - loss: 0.0029 - val_accuracy: 0.9998 - val_loss: 0.0155\n",
      "Epoch 9/20\n",
      "\u001b[1m28376/28376\u001b[0m \u001b[32m━━━━━━━━━━━━━━━━━━━━\u001b[0m\u001b[37m\u001b[0m \u001b[1m66s\u001b[0m 2ms/step - accuracy: 0.9997 - loss: 0.0034 - val_accuracy: 0.9995 - val_loss: 0.0114\n",
      "Epoch 10/20\n",
      "\u001b[1m28376/28376\u001b[0m \u001b[32m━━━━━━━━━━━━━━━━━━━━\u001b[0m\u001b[37m\u001b[0m \u001b[1m66s\u001b[0m 2ms/step - accuracy: 0.9997 - loss: 0.0033 - val_accuracy: 0.9996 - val_loss: 0.0231\n",
      "Epoch 11/20\n",
      "\u001b[1m28376/28376\u001b[0m \u001b[32m━━━━━━━━━━━━━━━━━━━━\u001b[0m\u001b[37m\u001b[0m \u001b[1m66s\u001b[0m 2ms/step - accuracy: 0.9997 - loss: 0.0024 - val_accuracy: 0.9996 - val_loss: 0.0196\n",
      "Epoch 12/20\n",
      "\u001b[1m28376/28376\u001b[0m \u001b[32m━━━━━━━━━━━━━━━━━━━━\u001b[0m\u001b[37m\u001b[0m \u001b[1m66s\u001b[0m 2ms/step - accuracy: 0.9998 - loss: 0.0031 - val_accuracy: 0.9998 - val_loss: 0.0252\n",
      "Epoch 13/20\n",
      "\u001b[1m28376/28376\u001b[0m \u001b[32m━━━━━━━━━━━━━━━━━━━━\u001b[0m\u001b[37m\u001b[0m \u001b[1m67s\u001b[0m 2ms/step - accuracy: 0.9998 - loss: 0.0032 - val_accuracy: 0.9997 - val_loss: 0.0264\n",
      "Epoch 14/20\n",
      "\u001b[1m28376/28376\u001b[0m \u001b[32m━━━━━━━━━━━━━━━━━━━━\u001b[0m\u001b[37m\u001b[0m \u001b[1m67s\u001b[0m 2ms/step - accuracy: 0.9997 - loss: 0.0038 - val_accuracy: 0.9998 - val_loss: 0.0203\n",
      "Epoch 15/20\n",
      "\u001b[1m28376/28376\u001b[0m \u001b[32m━━━━━━━━━━━━━━━━━━━━\u001b[0m\u001b[37m\u001b[0m \u001b[1m67s\u001b[0m 2ms/step - accuracy: 0.9998 - loss: 0.0021 - val_accuracy: 0.9991 - val_loss: 0.0180\n",
      "Epoch 16/20\n",
      "\u001b[1m28376/28376\u001b[0m \u001b[32m━━━━━━━━━━━━━━━━━━━━\u001b[0m\u001b[37m\u001b[0m \u001b[1m66s\u001b[0m 2ms/step - accuracy: 0.9997 - loss: 0.0029 - val_accuracy: 0.9997 - val_loss: 0.0316\n",
      "Epoch 17/20\n",
      "\u001b[1m28376/28376\u001b[0m \u001b[32m━━━━━━━━━━━━━━━━━━━━\u001b[0m\u001b[37m\u001b[0m \u001b[1m68s\u001b[0m 2ms/step - accuracy: 0.9998 - loss: 0.0023 - val_accuracy: 0.9996 - val_loss: 0.0276\n",
      "Epoch 18/20\n",
      "\u001b[1m28376/28376\u001b[0m \u001b[32m━━━━━━━━━━━━━━━━━━━━\u001b[0m\u001b[37m\u001b[0m \u001b[1m68s\u001b[0m 2ms/step - accuracy: 0.9998 - loss: 0.0024 - val_accuracy: 0.9998 - val_loss: 0.0380\n",
      "Epoch 19/20\n",
      "\u001b[1m28376/28376\u001b[0m \u001b[32m━━━━━━━━━━━━━━━━━━━━\u001b[0m\u001b[37m\u001b[0m \u001b[1m68s\u001b[0m 2ms/step - accuracy: 0.9998 - loss: 0.0018 - val_accuracy: 0.9998 - val_loss: 0.0222\n",
      "Epoch 20/20\n",
      "\u001b[1m28376/28376\u001b[0m \u001b[32m━━━━━━━━━━━━━━━━━━━━\u001b[0m\u001b[37m\u001b[0m \u001b[1m68s\u001b[0m 2ms/step - accuracy: 0.9998 - loss: 0.0019 - val_accuracy: 0.9998 - val_loss: 0.0280\n"
     ]
    }
   ],
   "source": [
    "# Fit the Keras Classifier model with the optimal hyperparameters\n",
    "mymodel= model.fit(X_train_os, y_train_os, epochs=20, validation_data=(X_test, y_test))"
   ]
  },
  {
   "cell_type": "code",
   "execution_count": 64,
   "id": "4aaa6d82",
   "metadata": {
    "execution": {
     "iopub.execute_input": "2024-04-29T13:27:23.859423Z",
     "iopub.status.busy": "2024-04-29T13:27:23.859042Z",
     "iopub.status.idle": "2024-04-29T13:27:31.886800Z",
     "shell.execute_reply": "2024-04-29T13:27:31.885612Z"
    },
    "papermill": {
     "duration": 11.045367,
     "end_time": "2024-04-29T13:27:31.889518",
     "exception": false,
     "start_time": "2024-04-29T13:27:20.844151",
     "status": "completed"
    },
    "tags": []
   },
   "outputs": [
    {
     "name": "stdout",
     "output_type": "stream",
     "text": [
      "\u001b[1m4730/4730\u001b[0m \u001b[32m━━━━━━━━━━━━━━━━━━━━\u001b[0m\u001b[37m\u001b[0m \u001b[1m6s\u001b[0m 1ms/step\n"
     ]
    }
   ],
   "source": [
    "y_pred=model.predict(X_test)\n",
    "y_pred = (y_pred > 0.5)"
   ]
  },
  {
   "cell_type": "code",
   "execution_count": 65,
   "id": "0201a5b1",
   "metadata": {
    "execution": {
     "iopub.execute_input": "2024-04-29T13:27:37.965877Z",
     "iopub.status.busy": "2024-04-29T13:27:37.964952Z",
     "iopub.status.idle": "2024-04-29T13:27:38.346108Z",
     "shell.execute_reply": "2024-04-29T13:27:38.344971Z"
    },
    "papermill": {
     "duration": 3.421968,
     "end_time": "2024-04-29T13:27:38.348173",
     "exception": false,
     "start_time": "2024-04-29T13:27:34.926205",
     "status": "completed"
    },
    "tags": []
   },
   "outputs": [
    {
     "name": "stdout",
     "output_type": "stream",
     "text": [
      "Confusion Matrix: \n",
      " [[151308     32]\n",
      " [     4      0]]\n",
      "\n",
      "\n",
      "Accuracy Score: \n",
      " 0.9997621313035204\n",
      "\n",
      "\n",
      "Classification Report: \n",
      "               precision    recall  f1-score   support\n",
      "\n",
      "           0       1.00      1.00      1.00    151340\n",
      "           1       0.00      0.00      0.00         4\n",
      "\n",
      "    accuracy                           1.00    151344\n",
      "   macro avg       0.50      0.50      0.50    151344\n",
      "weighted avg       1.00      1.00      1.00    151344\n",
      "\n"
     ]
    }
   ],
   "source": [
    "print(\"Confusion Matrix: \\n\",confusion_matrix(y_test,y_pred))\n",
    "print('\\n')\n",
    "print(\"Accuracy Score: \\n\",accuracy_score(y_test,y_pred))\n",
    "print('\\n')\n",
    "print(\"Classification Report: \\n\",classification_report(y_test,y_pred))"
   ]
  },
  {
   "cell_type": "markdown",
   "id": "c8f4173d",
   "metadata": {
    "papermill": {
     "duration": 3.023369,
     "end_time": "2024-04-29T13:27:44.388576",
     "exception": false,
     "start_time": "2024-04-29T13:27:41.365207",
     "status": "completed"
    },
    "tags": []
   },
   "source": [
    "# Experiments and Results"
   ]
  },
  {
   "cell_type": "markdown",
   "id": "fb36e997",
   "metadata": {
    "papermill": {
     "duration": 3.013754,
     "end_time": "2024-04-29T13:27:50.443314",
     "exception": false,
     "start_time": "2024-04-29T13:27:47.429560",
     "status": "completed"
    },
    "tags": []
   },
   "source": [
    "Confusion Matrix: \n",
    " [[71371  4365]\n",
    " [ 1624 73984]]\n",
    "\n",
    "\n",
    "Accuracy Score: \n",
    " 0.9604278993551115\n",
    "\n",
    "\n",
    "Classification Report: \n",
    "               precision    recall  f1-score   support\n",
    "\n",
    "           0       0.98      0.94      0.96     75736\n",
    "           1       0.94      0.98      0.96     75608\n",
    "\n",
    "    accuracy                           0.96    151344\n",
    "   macro avg       0.96      0.96      0.96    151344\n",
    "weighted avg       0.96      0.96      0.96    151344\n"
   ]
  },
  {
   "cell_type": "markdown",
   "id": "cd124bdb",
   "metadata": {
    "papermill": {
     "duration": 3.033553,
     "end_time": "2024-04-29T13:27:56.546770",
     "exception": false,
     "start_time": "2024-04-29T13:27:53.513217",
     "status": "completed"
    },
    "tags": []
   },
   "source": [
    "Confusion Matrix: \n",
    " [[ 25043 126297]\n",
    " [     1      3]]\n",
    "\n",
    "\n",
    "Accuracy Score: \n",
    " 0.16549053811185116\n",
    "\n",
    "\n",
    "Classification Report: \n",
    "               precision    recall  f1-score   support\n",
    "\n",
    "           0       1.00      0.17      0.28    151340\n",
    "           1       0.00      0.75      0.00         4\n",
    "\n",
    "    accuracy                           0.17    151344\n",
    "   macro avg       0.50      0.46      0.14    151344\n",
    "weighted avg       1.00      0.17      0.28    151344"
   ]
  },
  {
   "cell_type": "markdown",
   "id": "cbcbb8fc",
   "metadata": {
    "papermill": {
     "duration": 3.129278,
     "end_time": "2024-04-29T13:28:02.701838",
     "exception": false,
     "start_time": "2024-04-29T13:27:59.572560",
     "status": "completed"
    },
    "tags": []
   },
   "source": []
  }
 ],
 "metadata": {
  "kaggle": {
   "accelerator": "gpu",
   "dataSources": [
    {
     "datasetId": 4899126,
     "sourceId": 8255516,
     "sourceType": "datasetVersion"
    }
   ],
   "dockerImageVersionId": 30698,
   "isGpuEnabled": true,
   "isInternetEnabled": true,
   "language": "python",
   "sourceType": "notebook"
  },
  "kernelspec": {
   "display_name": "Python 3",
   "language": "python",
   "name": "python3"
  },
  "language_info": {
   "codemirror_mode": {
    "name": "ipython",
    "version": 3
   },
   "file_extension": ".py",
   "mimetype": "text/x-python",
   "name": "python",
   "nbconvert_exporter": "python",
   "pygments_lexer": "ipython3",
   "version": "3.10.13"
  },
  "papermill": {
   "default_parameters": {},
   "duration": 4971.709225,
   "end_time": "2024-04-29T13:28:09.066233",
   "environment_variables": {},
   "exception": null,
   "input_path": "__notebook__.ipynb",
   "output_path": "__notebook__.ipynb",
   "parameters": {},
   "start_time": "2024-04-29T12:05:17.357008",
   "version": "2.5.0"
  }
 },
 "nbformat": 4,
 "nbformat_minor": 5
}
